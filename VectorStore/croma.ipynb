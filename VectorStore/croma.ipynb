{
 "cells": [
  {
   "cell_type": "code",
   "execution_count": 1,
   "id": "bd4138f0",
   "metadata": {},
   "outputs": [
    {
     "name": "stderr",
     "output_type": "stream",
     "text": [
      "d:\\GRIND\\GEN AI\\LangChain\\env\\Lib\\site-packages\\tqdm\\auto.py:21: TqdmWarning: IProgress not found. Please update jupyter and ipywidgets. See https://ipywidgets.readthedocs.io/en/stable/user_install.html\n",
      "  from .autonotebook import tqdm as notebook_tqdm\n"
     ]
    },
    {
     "data": {
      "text/plain": [
       "True"
      ]
     },
     "execution_count": 1,
     "metadata": {},
     "output_type": "execute_result"
    }
   ],
   "source": [
    "from langchain_google_genai import GoogleGenerativeAIEmbeddings\n",
    "from langchain.vectorstores import Chroma\n",
    "from langchain.schema import Document\n",
    "from dotenv import load_dotenv\n",
    "\n",
    "load_dotenv()"
   ]
  },
  {
   "cell_type": "code",
   "execution_count": 2,
   "id": "64db4caf",
   "metadata": {},
   "outputs": [],
   "source": [
    "doc1 = Document(\n",
    "        page_content=\"Virat Kohli is one of the most successful and consistent batsmen in IPL history. Known for his aggressive batting style and fitness, he has led the Royal Challengers Bangalore in multiple seasons.\",\n",
    "        metadata={\"team\": \"Royal Challengers Bangalore\"}\n",
    "    )\n",
    "doc2 = Document(\n",
    "        page_content=\"Rohit Sharma is the most successful captain in IPL history, leading Mumbai Indians to five titles. He's known for his calm demeanor and ability to play big innings under pressure.\",\n",
    "        metadata={\"team\": \"Mumbai Indians\"}\n",
    "    )\n",
    "doc3 = Document(\n",
    "        page_content=\"MS Dhoni, famously known as Captain Cool, has led Chennai Super Kings to multiple IPL titles. His finishing skills, wicketkeeping, and leadership are legendary.\",\n",
    "        metadata={\"team\": \"Chennai Super Kings\"}\n",
    "    )\n",
    "doc4 = Document(\n",
    "        page_content=\"Jasprit Bumrah is considered one of the best fast bowlers in T20 cricket. Playing for Mumbai Indians, he is known for his yorkers and death-over expertise.\",\n",
    "        metadata={\"team\": \"Mumbai Indians\"}\n",
    "    )\n",
    "doc5 = Document(\n",
    "        page_content=\"Ravindra Jadeja is a dynamic all-rounder who contributes with both bat and ball. Representing Chennai Super Kings, his quick fielding and match-winning performances make him a key player.\",\n",
    "        metadata={\"team\": \"Chennai Super Kings\"}\n",
    "    )\n",
    "\n",
    "docs = [doc1, doc2, doc3, doc4, doc5]\n"
   ]
  },
  {
   "cell_type": "code",
   "execution_count": 4,
   "id": "3670788e",
   "metadata": {},
   "outputs": [],
   "source": [
    "vector_store = Chroma(\n",
    "    embedding_function=GoogleGenerativeAIEmbeddings(model=\"models/gemini-embedding-001\"),\n",
    "    persist_directory='my_chroma_db',\n",
    "    collection_name='sample'\n",
    ")\n"
   ]
  },
  {
   "cell_type": "code",
   "execution_count": 5,
   "id": "ebb5384c",
   "metadata": {},
   "outputs": [
    {
     "data": {
      "text/plain": [
       "['74b3841c-620d-4d12-b279-95645b9de2ba',\n",
       " '27303e1b-4945-4a3c-ae03-6bf4a06abc2d',\n",
       " '3eb5b459-501d-4e10-9bfd-699c9b2ad1e4',\n",
       " 'fea66265-8bcb-477a-8831-3d974903f784',\n",
       " '4a404685-a2b9-4a52-b482-8d4b469e862f']"
      ]
     },
     "execution_count": 5,
     "metadata": {},
     "output_type": "execute_result"
    }
   ],
   "source": [
    "vector_store.add_documents(docs)"
   ]
  },
  {
   "cell_type": "code",
   "execution_count": 6,
   "id": "3e150737",
   "metadata": {},
   "outputs": [
    {
     "data": {
      "text/plain": [
       "{'ids': ['74b3841c-620d-4d12-b279-95645b9de2ba',\n",
       "  '27303e1b-4945-4a3c-ae03-6bf4a06abc2d',\n",
       "  '3eb5b459-501d-4e10-9bfd-699c9b2ad1e4',\n",
       "  'fea66265-8bcb-477a-8831-3d974903f784',\n",
       "  '4a404685-a2b9-4a52-b482-8d4b469e862f'],\n",
       " 'embeddings': array([[-0.00982054,  0.02545763,  0.02402782, ...,  0.01414876,\n",
       "         -0.01560954, -0.00266117],\n",
       "        [-0.01989721,  0.01092714,  0.01730603, ...,  0.00973945,\n",
       "         -0.0176257 , -0.00460104],\n",
       "        [-0.01358705, -0.00359449,  0.01163961, ...,  0.01149882,\n",
       "         -0.02098301,  0.00373549],\n",
       "        [-0.01261678, -0.00227585,  0.00470995, ..., -0.00144414,\n",
       "          0.00646786, -0.00529741],\n",
       "        [-0.01413488, -0.02750698,  0.01302837, ...,  0.00987475,\n",
       "         -0.00950909, -0.00272136]], shape=(5, 3072)),\n",
       " 'documents': ['Virat Kohli is one of the most successful and consistent batsmen in IPL history. Known for his aggressive batting style and fitness, he has led the Royal Challengers Bangalore in multiple seasons.',\n",
       "  \"Rohit Sharma is the most successful captain in IPL history, leading Mumbai Indians to five titles. He's known for his calm demeanor and ability to play big innings under pressure.\",\n",
       "  'MS Dhoni, famously known as Captain Cool, has led Chennai Super Kings to multiple IPL titles. His finishing skills, wicketkeeping, and leadership are legendary.',\n",
       "  'Jasprit Bumrah is considered one of the best fast bowlers in T20 cricket. Playing for Mumbai Indians, he is known for his yorkers and death-over expertise.',\n",
       "  'Ravindra Jadeja is a dynamic all-rounder who contributes with both bat and ball. Representing Chennai Super Kings, his quick fielding and match-winning performances make him a key player.'],\n",
       " 'uris': None,\n",
       " 'included': ['embeddings', 'documents', 'metadatas'],\n",
       " 'data': None,\n",
       " 'metadatas': [{'team': 'Royal Challengers Bangalore'},\n",
       "  {'team': 'Mumbai Indians'},\n",
       "  {'team': 'Chennai Super Kings'},\n",
       "  {'team': 'Mumbai Indians'},\n",
       "  {'team': 'Chennai Super Kings'}]}"
      ]
     },
     "execution_count": 6,
     "metadata": {},
     "output_type": "execute_result"
    }
   ],
   "source": [
    "vector_store.get(include=['embeddings','documents', 'metadatas'])"
   ]
  },
  {
   "cell_type": "code",
   "execution_count": 7,
   "id": "5e2364d8",
   "metadata": {},
   "outputs": [
    {
     "data": {
      "text/plain": [
       "[Document(metadata={'team': 'Mumbai Indians'}, page_content='Jasprit Bumrah is considered one of the best fast bowlers in T20 cricket. Playing for Mumbai Indians, he is known for his yorkers and death-over expertise.')]"
      ]
     },
     "execution_count": 7,
     "metadata": {},
     "output_type": "execute_result"
    }
   ],
   "source": [
    "vector_store.similarity_search(\n",
    "    query=\"Who among these are bowlers?\",\n",
    "    k=1\n",
    "    )"
   ]
  },
  {
   "cell_type": "code",
   "execution_count": 8,
   "id": "847b3c75",
   "metadata": {},
   "outputs": [
    {
     "data": {
      "text/plain": [
       "[(Document(metadata={'team': 'Mumbai Indians'}, page_content='Jasprit Bumrah is considered one of the best fast bowlers in T20 cricket. Playing for Mumbai Indians, he is known for his yorkers and death-over expertise.'),\n",
       "  0.6447716951370239)]"
      ]
     },
     "execution_count": 8,
     "metadata": {},
     "output_type": "execute_result"
    }
   ],
   "source": [
    "vector_store.similarity_search_with_score(\n",
    "    query=\"Who among these are bowlers?\",\n",
    "    k=1\n",
    "    )"
   ]
  },
  {
   "cell_type": "code",
   "execution_count": 13,
   "id": "e00c4ea6",
   "metadata": {},
   "outputs": [
    {
     "data": {
      "text/plain": [
       "[(Document(metadata={'team': 'Mumbai Indians'}, page_content=\"Rohit Sharma is the most successful captain in IPL history, leading Mumbai Indians to five titles. He's known for his calm demeanor and ability to play big innings under pressure.\"),\n",
       "  0.8072932958602905),\n",
       " (Document(metadata={'team': 'Mumbai Indians'}, page_content='Jasprit Bumrah is considered one of the best fast bowlers in T20 cricket. Playing for Mumbai Indians, he is known for his yorkers and death-over expertise.'),\n",
       "  0.8503143787384033)]"
      ]
     },
     "execution_count": 13,
     "metadata": {},
     "output_type": "execute_result"
    }
   ],
   "source": [
    "# filtering\n",
    "vector_store.similarity_search_with_score(\n",
    "    query=\"hi\",\n",
    "    filter={\"team\": \"Mumbai Indians\"}\n",
    "    )"
   ]
  },
  {
   "cell_type": "code",
   "execution_count": 14,
   "id": "f04edef2",
   "metadata": {},
   "outputs": [],
   "source": [
    "#updating document\n",
    "\n",
    "new_doc = Document(\n",
    "        page_content=\"Rohit Sharma is the most lmao player in the world.\",\n",
    "        metadata={\"team\": \"Mumbai Indians\"}\n",
    "    )\n",
    "\n",
    "vector_store.update_document(\n",
    "    document_id=\"27303e1b-4945-4a3c-ae03-6bf4a06abc2d\",\n",
    "    document=new_doc\n",
    "    )"
   ]
  },
  {
   "cell_type": "code",
   "execution_count": 15,
   "id": "0d9fa32b",
   "metadata": {},
   "outputs": [
    {
     "data": {
      "text/plain": [
       "{'ids': ['74b3841c-620d-4d12-b279-95645b9de2ba',\n",
       "  '27303e1b-4945-4a3c-ae03-6bf4a06abc2d',\n",
       "  '3eb5b459-501d-4e10-9bfd-699c9b2ad1e4',\n",
       "  'fea66265-8bcb-477a-8831-3d974903f784',\n",
       "  '4a404685-a2b9-4a52-b482-8d4b469e862f'],\n",
       " 'embeddings': array([[-0.00982054,  0.02545763,  0.02402782, ...,  0.01414876,\n",
       "         -0.01560954, -0.00266117],\n",
       "        [-0.02203527,  0.02560006,  0.00765409, ...,  0.01651459,\n",
       "          0.00445929, -0.0058202 ],\n",
       "        [-0.01358705, -0.00359449,  0.01163961, ...,  0.01149882,\n",
       "         -0.02098301,  0.00373549],\n",
       "        [-0.01261678, -0.00227585,  0.00470995, ..., -0.00144414,\n",
       "          0.00646786, -0.00529741],\n",
       "        [-0.01413488, -0.02750698,  0.01302837, ...,  0.00987475,\n",
       "         -0.00950909, -0.00272136]], shape=(5, 3072)),\n",
       " 'documents': ['Virat Kohli is one of the most successful and consistent batsmen in IPL history. Known for his aggressive batting style and fitness, he has led the Royal Challengers Bangalore in multiple seasons.',\n",
       "  'Rohit Sharma is the most lmao player in the world.',\n",
       "  'MS Dhoni, famously known as Captain Cool, has led Chennai Super Kings to multiple IPL titles. His finishing skills, wicketkeeping, and leadership are legendary.',\n",
       "  'Jasprit Bumrah is considered one of the best fast bowlers in T20 cricket. Playing for Mumbai Indians, he is known for his yorkers and death-over expertise.',\n",
       "  'Ravindra Jadeja is a dynamic all-rounder who contributes with both bat and ball. Representing Chennai Super Kings, his quick fielding and match-winning performances make him a key player.'],\n",
       " 'uris': None,\n",
       " 'included': ['embeddings', 'documents', 'metadatas'],\n",
       " 'data': None,\n",
       " 'metadatas': [{'team': 'Royal Challengers Bangalore'},\n",
       "  {'team': 'Mumbai Indians'},\n",
       "  {'team': 'Chennai Super Kings'},\n",
       "  {'team': 'Mumbai Indians'},\n",
       "  {'team': 'Chennai Super Kings'}]}"
      ]
     },
     "execution_count": 15,
     "metadata": {},
     "output_type": "execute_result"
    }
   ],
   "source": [
    "vector_store.get(include=['embeddings', 'documents', 'metadatas'])"
   ]
  },
  {
   "cell_type": "code",
   "execution_count": 16,
   "id": "109c900c",
   "metadata": {},
   "outputs": [],
   "source": [
    "# delete document\n",
    "vector_store.delete(ids=[\"27303e1b-4945-4a3c-ae03-6bf4a06abc2d\"])"
   ]
  },
  {
   "cell_type": "code",
   "execution_count": 17,
   "id": "d1c46ae6",
   "metadata": {},
   "outputs": [
    {
     "data": {
      "text/plain": [
       "{'ids': ['74b3841c-620d-4d12-b279-95645b9de2ba',\n",
       "  '3eb5b459-501d-4e10-9bfd-699c9b2ad1e4',\n",
       "  'fea66265-8bcb-477a-8831-3d974903f784',\n",
       "  '4a404685-a2b9-4a52-b482-8d4b469e862f'],\n",
       " 'embeddings': array([[-0.00982054,  0.02545763,  0.02402782, ...,  0.01414876,\n",
       "         -0.01560954, -0.00266117],\n",
       "        [-0.01358705, -0.00359449,  0.01163961, ...,  0.01149882,\n",
       "         -0.02098301,  0.00373549],\n",
       "        [-0.01261678, -0.00227585,  0.00470995, ..., -0.00144414,\n",
       "          0.00646786, -0.00529741],\n",
       "        [-0.01413488, -0.02750698,  0.01302837, ...,  0.00987475,\n",
       "         -0.00950909, -0.00272136]], shape=(4, 3072)),\n",
       " 'documents': ['Virat Kohli is one of the most successful and consistent batsmen in IPL history. Known for his aggressive batting style and fitness, he has led the Royal Challengers Bangalore in multiple seasons.',\n",
       "  'MS Dhoni, famously known as Captain Cool, has led Chennai Super Kings to multiple IPL titles. His finishing skills, wicketkeeping, and leadership are legendary.',\n",
       "  'Jasprit Bumrah is considered one of the best fast bowlers in T20 cricket. Playing for Mumbai Indians, he is known for his yorkers and death-over expertise.',\n",
       "  'Ravindra Jadeja is a dynamic all-rounder who contributes with both bat and ball. Representing Chennai Super Kings, his quick fielding and match-winning performances make him a key player.'],\n",
       " 'uris': None,\n",
       " 'included': ['embeddings', 'documents', 'metadatas'],\n",
       " 'data': None,\n",
       " 'metadatas': [{'team': 'Royal Challengers Bangalore'},\n",
       "  {'team': 'Chennai Super Kings'},\n",
       "  {'team': 'Mumbai Indians'},\n",
       "  {'team': 'Chennai Super Kings'}]}"
      ]
     },
     "execution_count": 17,
     "metadata": {},
     "output_type": "execute_result"
    }
   ],
   "source": [
    "vector_store.get(include=['embeddings', 'documents', 'metadatas'])"
   ]
  },
  {
   "cell_type": "code",
   "execution_count": null,
   "id": "1439264c",
   "metadata": {},
   "outputs": [],
   "source": []
  }
 ],
 "metadata": {
  "kernelspec": {
   "display_name": "env",
   "language": "python",
   "name": "python3"
  },
  "language_info": {
   "codemirror_mode": {
    "name": "ipython",
    "version": 3
   },
   "file_extension": ".py",
   "mimetype": "text/x-python",
   "name": "python",
   "nbconvert_exporter": "python",
   "pygments_lexer": "ipython3",
   "version": "3.13.0"
  }
 },
 "nbformat": 4,
 "nbformat_minor": 5
}
