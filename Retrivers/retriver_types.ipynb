{
 "cells": [
  {
   "cell_type": "code",
   "execution_count": 1,
   "id": "0c680c70",
   "metadata": {},
   "outputs": [
    {
     "name": "stderr",
     "output_type": "stream",
     "text": [
      "d:\\GRIND\\GEN AI\\LangChain\\env\\Lib\\site-packages\\tqdm\\auto.py:21: TqdmWarning: IProgress not found. Please update jupyter and ipywidgets. See https://ipywidgets.readthedocs.io/en/stable/user_install.html\n",
      "  from .autonotebook import tqdm as notebook_tqdm\n"
     ]
    }
   ],
   "source": [
    "from langchain_community.vectorstores import Chroma\n",
    "from langchain_google_genai import GoogleGenerativeAIEmbeddings\n",
    "from langchain_core.documents import Document"
   ]
  },
  {
   "cell_type": "code",
   "execution_count": null,
   "id": "45939db7",
   "metadata": {},
   "outputs": [],
   "source": [
    "# document about langchain\n",
    "# 1 creating my data\n",
    "document = [\n",
    "    Document(page_content = \"Langchain is a powerful tool for building applications with LLMs. \"),\n",
    "    Document(page_content = \"It provides a set of tools and components for working with LLMs, including vector stores, agents, and more.\"),\n",
    "    Document(page_content = \"Langchain is easy to use and integrates with other tools and frameworks. \"),\n",
    "    Document(page_content = \"It is also compatible with a wide range of LLMs and models. \")\n",
    "]"
   ]
  },
  {
   "cell_type": "code",
   "execution_count": 4,
   "id": "a9c47482",
   "metadata": {},
   "outputs": [],
   "source": [
    "#2. Initailizing embedding model\n",
    "embeddings = GoogleGenerativeAIEmbeddings(model = \"models/gemini-embedding-001\")\n",
    "\n",
    "#3. Create Chroma vector store in memory\n",
    "vector_store = Chroma.from_documents(\n",
    "    documents=document,\n",
    "    embedding=embeddings,\n",
    "    collection_name=\"my_collection\"\n",
    ")"
   ]
  },
  {
   "cell_type": "code",
   "execution_count": 5,
   "id": "4383438b",
   "metadata": {},
   "outputs": [],
   "source": [
    "retriver = vector_store.as_retriever(search_kwargs={\"k\":2})"
   ]
  },
  {
   "cell_type": "code",
   "execution_count": 6,
   "id": "481522af",
   "metadata": {},
   "outputs": [],
   "source": [
    "query = \"Why do we use langchain?\"\n",
    "result = retriver.invoke(query)"
   ]
  },
  {
   "cell_type": "code",
   "execution_count": 8,
   "id": "4f27be7f",
   "metadata": {},
   "outputs": [
    {
     "name": "stdout",
     "output_type": "stream",
     "text": [
      "Document 1 : Langchain is easy to use and integrates with other tools and frameworks. \n",
      "Document 2 : Langchain is a powerful tool for building applications with LLMs. \n"
     ]
    }
   ],
   "source": [
    "for i , doc in  enumerate(result):\n",
    "    print(f\"Document {i+1} : {doc.page_content}\")"
   ]
  },
  {
   "cell_type": "code",
   "execution_count": 9,
   "id": "f09e256d",
   "metadata": {},
   "outputs": [
    {
     "data": {
      "text/plain": [
       "[Document(metadata={}, page_content='Langchain is easy to use and integrates with other tools and frameworks. '),\n",
       " Document(metadata={}, page_content='Langchain is a powerful tool for building applications with LLMs. '),\n",
       " Document(metadata={}, page_content='It is also compatible with a wide range of LLMs and models. '),\n",
       " Document(metadata={}, page_content='It provides a set of tools and components for working with LLMs, including vector stores, agents, and more.')]"
      ]
     },
     "execution_count": 9,
     "metadata": {},
     "output_type": "execute_result"
    }
   ],
   "source": [
    "vector_store.similarity_search(query)"
   ]
  },
  {
   "cell_type": "markdown",
   "id": "6d864989",
   "metadata": {},
   "source": [
    "# MMR Retrival"
   ]
  },
  {
   "cell_type": "code",
   "execution_count": 19,
   "id": "e5752ec0",
   "metadata": {},
   "outputs": [],
   "source": [
    "from langchain_core.documents import Document\n",
    "from langchain_community.vectorstores import FAISS\n",
    "from langchain_google_genai import GoogleGenerativeAIEmbeddings\n",
    "\n",
    "# sample Doucment\n",
    "\n",
    "docs = [\n",
    "    Document(page_content = \"Langchain is a powerful tool for building applications with LLMs. \"),\n",
    "    Document(page_content = \"It provides a set of tools and components for working with LLMs, including vector stores, agents, and more.\"),\n",
    "    Document(page_content = \"Langchain is easy to use and integrates with other tools and frameworks. \"),\n",
    "    Document(page_content = \"It is also compatible with a wide range of LLMs and models. \")\n",
    "]\n",
    "\n",
    "#3. Create Chroma vector store in memory\n",
    "faiss_vector_store = FAISS.from_documents(\n",
    "    documents=docs,\n",
    "    embedding=embeddings,\n",
    ")\n"
   ]
  },
  {
   "cell_type": "code",
   "execution_count": 20,
   "id": "9ed5db26",
   "metadata": {},
   "outputs": [],
   "source": [
    "retriver = faiss_vector_store.as_retriever(\n",
    "    search_type=\"mmr\",\n",
    "    search_kwargs={\"k\":3, \"lambda_mult\": 0.5}\n",
    ")"
   ]
  },
  {
   "cell_type": "code",
   "execution_count": 24,
   "id": "04e1a353",
   "metadata": {},
   "outputs": [],
   "source": [
    "query2 = \"Why do we use langchain?\"\n",
    "result2 = retriver.invoke(query2)"
   ]
  },
  {
   "cell_type": "code",
   "execution_count": 25,
   "id": "631c1eee",
   "metadata": {},
   "outputs": [
    {
     "name": "stdout",
     "output_type": "stream",
     "text": [
      "Document 1 : Langchain is easy to use and integrates with other tools and frameworks. \n",
      "Document 2 : It provides a set of tools and components for working with LLMs, including vector stores, agents, and more.\n",
      "Document 3 : It is also compatible with a wide range of LLMs and models. \n"
     ]
    }
   ],
   "source": [
    "for i , doc in  enumerate(result2):\n",
    "    print(f\"Document {i+1} : {doc.page_content}\")"
   ]
  },
  {
   "cell_type": "markdown",
   "id": "452b9fc4",
   "metadata": {},
   "source": [
    "# Multi-Query Retriever"
   ]
  },
  {
   "cell_type": "code",
   "execution_count": 31,
   "id": "8feab4d7",
   "metadata": {},
   "outputs": [],
   "source": [
    "from langchain.retrievers.multi_query import MultiQueryRetriever\n",
    "from langchain_google_genai import ChatGoogleGenerativeAI\n",
    "from dotenv import load_dotenv\n",
    "\n",
    "load_dotenv()\n",
    "\n",
    "model = ChatGoogleGenerativeAI(\n",
    "    model=\"gemini-2.0-flash\",  # or another supported model name\n",
    "    temperature=0.7,\n",
    "    max_tokens=None,  # use default or set a limit\n",
    "    timeout=None,\n",
    "    max_retries=2\n",
    ")"
   ]
  },
  {
   "cell_type": "code",
   "execution_count": null,
   "id": "8e4ab1c1",
   "metadata": {},
   "outputs": [],
   "source": [
    "# large documents about healt and wellness\n",
    "\n",
    "random_docs = [\n",
    "    Document(page_content = \"Promote harmony between mental and physical health through mindfulness and self-care practices.\"),\n",
    "    Document(page_content = \"Encourage balanced eating habits with nutrient-rich foods and hydration.\"),\n",
    "    Document(page_content = \"Quantum Computing Uses qubits that can exist in multiple states at once, making it insanely powerful for complex calculations.\"),\n",
    "    Document(page_content = \"Synesthesia A rare condition where people can hear colors or see sounds.\"),\n",
    "    Document(page_content = \"Monarch Butterflies Travel up to 3,000 miles during migration — one of the longest of any insect species.\"),\n",
    "    Document(page_content = \"Reduce anxiety through meditation, yoga, or deep-breathing exercises.\"),\n",
    "    Document(page_content = \"Saturn’s Rings  They might disappear in 100 million years as they slowly fall into the planet.\"),\n",
    "    Document(page_content = \"Artificial Intelligence Ethics  Debates around how machines should make moral decisions.\"),\n",
    "    Document(page_content = \"Coffee Chemistry – Over 1,000 chemical compounds contribute to coffee’s unique flavor and aroma.\"),\n",
    "    Document(page_content = \"Memory Formation – Your brain rewires itself every time you recall a memory — it’s never exactly the same.\"),\n",
    "] "
   ]
  },
  {
   "cell_type": "code",
   "execution_count": null,
   "id": "31e5b416",
   "metadata": {},
   "outputs": [],
   "source": [
    "random_vector_store = FAISS.from_documents(\n",
    "    documents=random_docs,\n",
    "    embedding=embeddings,\n",
    ")"
   ]
  },
  {
   "cell_type": "code",
   "execution_count": null,
   "id": "66fc0f76",
   "metadata": {},
   "outputs": [],
   "source": [
    "similarity_retriver = random_vector_store.as_retriever(search_type='similarity',search_kwargs={\"k\":5})"
   ]
  },
  {
   "cell_type": "code",
   "execution_count": null,
   "id": "7146b294",
   "metadata": {},
   "outputs": [],
   "source": [
    "multi_query_retriver = MultiQueryRetriever.from_llm(\n",
    "    retriever=random_vector_store.as_retriever(search_kwargs={\"k\":5}),\n",
    "    llm=random_vector_store\n",
    ")"
   ]
  },
  {
   "cell_type": "code",
   "execution_count": 41,
   "id": "8dfb96f0",
   "metadata": {},
   "outputs": [],
   "source": [
    "# best query to test MultiQueryRetriever that make model confuse between the related data\n",
    "random_query = \"What is the best way to sove these problem?\""
   ]
  },
  {
   "cell_type": "code",
   "execution_count": 42,
   "id": "9bccceb8",
   "metadata": {},
   "outputs": [],
   "source": [
    "similarity_result = similarity_retriver.invoke(random_query)\n",
    "multiquery_result = multi_query_retriver.invoke(random_query)"
   ]
  },
  {
   "cell_type": "code",
   "execution_count": 43,
   "id": "155ab52e",
   "metadata": {},
   "outputs": [
    {
     "name": "stdout",
     "output_type": "stream",
     "text": [
      "Document 1 : Reduce anxiety through meditation, yoga, or deep-breathing exercises.\n",
      "Document 2 : Quantum Computing Uses qubits that can exist in multiple states at once, making it insanely powerful for complex calculations.\n",
      "Document 3 : Encourage balanced eating habits with nutrient-rich foods and hydration.\n",
      "Document 4 : Promote harmony between mental and physical health through mindfulness and self-care practices.\n",
      "Document 5 : Saturn’s Rings  They might disappear in 100 million years as they slowly fall into the planet.\n",
      "******************************************************************************************************************************************************\n",
      "Document 1 : Reduce anxiety through meditation, yoga, or deep-breathing exercises.\n",
      "Document 2 : Promote harmony between mental and physical health through mindfulness and self-care practices.\n",
      "Document 3 : Encourage balanced eating habits with nutrient-rich foods and hydration.\n",
      "Document 4 : Quantum Computing Uses qubits that can exist in multiple states at once, making it insanely powerful for complex calculations.\n",
      "Document 5 : Memory Formation – Your brain rewires itself every time you recall a memory — it’s never exactly the same.\n",
      "Document 6 : Artificial Intelligence Ethics  Debates around how machines should make moral decisions.\n"
     ]
    }
   ],
   "source": [
    "for i , doc in  enumerate(similarity_result):\n",
    "    print(f\"Document {i+1} : {doc.page_content}\")\n",
    "\n",
    "print('*'*150)\n",
    "\n",
    "for i , doc in  enumerate(multiquery_result):\n",
    "    print(f\"Document {i+1} : {doc.page_content}\")"
   ]
  },
  {
   "cell_type": "markdown",
   "id": "a1aad47b",
   "metadata": {},
   "source": [
    "# Contextual Compression Retrival"
   ]
  },
  {
   "cell_type": "code",
   "execution_count": 48,
   "id": "a98fa295",
   "metadata": {},
   "outputs": [],
   "source": [
    "from langchain.retrievers import ContextualCompressionRetriever\n",
    "from langchain.retrievers.document_compressors import LLMChainExtractor"
   ]
  },
  {
   "cell_type": "code",
   "execution_count": 49,
   "id": "e0a6ec33",
   "metadata": {},
   "outputs": [],
   "source": [
    "# Recreate the document objects from the previous data\n",
    "docs = [\n",
    "    Document(page_content=(\n",
    "        \"\"\"The Grand Canyon is one of the most visited natural wonders in the world.\n",
    "        Photosynthesis is the process by which green plants convert sunlight into energy.\n",
    "        Millions of tourists travel to see it every year. The rocks date back millions of years.\"\"\"\n",
    "    ), metadata={\"source\": \"Doc1\"}),\n",
    "\n",
    "    Document(page_content=(\n",
    "        \"\"\"In medieval Europe, castles were built primarily for defense.\n",
    "        The chlorophyll in plant cells captures sunlight during photosynthesis.\n",
    "        Knights wore armor made of metal. Siege weapons were often used to breach castle walls.\"\"\"\n",
    "    ), metadata={\"source\": \"Doc2\"}),\n",
    "\n",
    "    Document(page_content=(\n",
    "        \"\"\"Basketball was invented by Dr. James Naismith in the late 19th century.\n",
    "        It was originally played with a soccer ball and peach baskets. NBA is now a global league.\"\"\"\n",
    "    ), metadata={\"source\": \"Doc3\"}),\n",
    "\n",
    "    Document(page_content=(\n",
    "        \"\"\"The history of cinema began in the late 1800s. Silent films were the earliest form.\n",
    "        Thomas Edison was among the pioneers. Photosynthesis does not occur in animal cells.\n",
    "        Modern filmmaking involves complex CGI and sound design.\"\"\"\n",
    "    ), metadata={\"source\": \"Doc4\"})\n",
    "]"
   ]
  },
  {
   "cell_type": "code",
   "execution_count": 50,
   "id": "f881902e",
   "metadata": {},
   "outputs": [],
   "source": [
    "vectorStore = FAISS.from_documents(docs, embeddings)\n",
    "\n",
    "base_retriver = vectorStore.as_retriever(search_kwargs={\"k\": 5})"
   ]
  },
  {
   "cell_type": "code",
   "execution_count": 51,
   "id": "ee091f41",
   "metadata": {},
   "outputs": [],
   "source": [
    "compressor = LLMChainExtractor.from_llm(model)"
   ]
  },
  {
   "cell_type": "code",
   "execution_count": 52,
   "id": "04e9cc89",
   "metadata": {},
   "outputs": [],
   "source": [
    "compressor_retriver = ContextualCompressionRetriever(\n",
    "    base_compressor=compressor,\n",
    "    base_retriever=base_retriver\n",
    ")"
   ]
  },
  {
   "cell_type": "code",
   "execution_count": 53,
   "id": "4a75b8e3",
   "metadata": {},
   "outputs": [],
   "source": [
    "comressor_result = compressor_retriver.invoke(\"What is photo synthesis?\")"
   ]
  },
  {
   "cell_type": "code",
   "execution_count": 54,
   "id": "1f47466b",
   "metadata": {},
   "outputs": [
    {
     "name": "stdout",
     "output_type": "stream",
     "text": [
      "Document 1 : Photosynthesis is the process by which green plants convert sunlight into energy.\n",
      "Document 2 : Photosynthesis does not occur in animal cells.\n",
      "Document 3 : The chlorophyll in plant cells captures sunlight during photosynthesis.\n"
     ]
    }
   ],
   "source": [
    "for i , doc in  enumerate(comressor_result):\n",
    "    print(f\"Document {i+1} : {doc.page_content}\")"
   ]
  },
  {
   "cell_type": "code",
   "execution_count": null,
   "id": "08a9aa62",
   "metadata": {},
   "outputs": [],
   "source": []
  }
 ],
 "metadata": {
  "kernelspec": {
   "display_name": "env",
   "language": "python",
   "name": "python3"
  },
  "language_info": {
   "codemirror_mode": {
    "name": "ipython",
    "version": 3
   },
   "file_extension": ".py",
   "mimetype": "text/x-python",
   "name": "python",
   "nbconvert_exporter": "python",
   "pygments_lexer": "ipython3",
   "version": "3.13.0"
  }
 },
 "nbformat": 4,
 "nbformat_minor": 5
}
