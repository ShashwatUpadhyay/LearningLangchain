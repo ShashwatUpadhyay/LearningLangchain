{
 "cells": [
  {
   "cell_type": "code",
   "execution_count": null,
   "id": "7580a6a0",
   "metadata": {},
   "outputs": [
    {
     "name": "stderr",
     "output_type": "stream",
     "text": [
      "[nltk_data] Downloading package punkt_tab to\n",
      "[nltk_data]     C:\\Users\\imake\\AppData\\Roaming\\nltk_data...\n",
      "[nltk_data]   Unzipping tokenizers\\punkt_tab.zip.\n"
     ]
    },
    {
     "data": {
      "text/plain": [
       "True"
      ]
     },
     "execution_count": 5,
     "metadata": {},
     "output_type": "execute_result"
    }
   ],
   "source": [
    "import nltk\n",
    "nltk.download('punkt_tab')"
   ]
  },
  {
   "cell_type": "code",
   "execution_count": 6,
   "id": "796019b6",
   "metadata": {},
   "outputs": [],
   "source": [
    "lmao = 'Rohit Sharma holds the record for the highest individual score in ODI cricket — 264 runs. Jasprit Bumrah is one of the world’s best fast bowlers, famous for his deadly yorkers and unique bowling action. Ravindra Jadeja is a dynamic all-rounder, excelling in both spin bowling and explosive lower-order batting. KL Rahul is a technically gifted batsman who can adapt to multiple roles, from opener to middle-order anchor.'\n",
    "players = \"Virat Kohli is known for his aggressive batting style and consistency across all formats of the game. \"\n",
    "word = nltk.word_tokenize(players)"
   ]
  },
  {
   "cell_type": "code",
   "execution_count": 7,
   "id": "f58f06a8",
   "metadata": {},
   "outputs": [
    {
     "data": {
      "text/plain": [
       "['Virat',\n",
       " 'Kohli',\n",
       " 'is',\n",
       " 'known',\n",
       " 'for',\n",
       " 'his',\n",
       " 'aggressive',\n",
       " 'batting',\n",
       " 'style',\n",
       " 'and',\n",
       " 'consistency',\n",
       " 'across',\n",
       " 'all',\n",
       " 'formats',\n",
       " 'of',\n",
       " 'the',\n",
       " 'game',\n",
       " '.']"
      ]
     },
     "execution_count": 7,
     "metadata": {},
     "output_type": "execute_result"
    }
   ],
   "source": [
    "word"
   ]
  },
  {
   "cell_type": "code",
   "execution_count": 10,
   "id": "5c581ad6",
   "metadata": {},
   "outputs": [
    {
     "name": "stderr",
     "output_type": "stream",
     "text": [
      "[nltk_data] Downloading package averaged_perceptron_tagger_eng to\n",
      "[nltk_data]     C:\\Users\\imake\\AppData\\Roaming\\nltk_data...\n",
      "[nltk_data]   Unzipping taggers\\averaged_perceptron_tagger_eng.zip.\n"
     ]
    },
    {
     "data": {
      "text/plain": [
       "[('Virat', 'NNP'),\n",
       " ('Kohli', 'NNP'),\n",
       " ('is', 'VBZ'),\n",
       " ('known', 'VBN'),\n",
       " ('for', 'IN'),\n",
       " ('his', 'PRP$'),\n",
       " ('aggressive', 'JJ'),\n",
       " ('batting', 'NN'),\n",
       " ('style', 'NN'),\n",
       " ('and', 'CC'),\n",
       " ('consistency', 'NN'),\n",
       " ('across', 'IN'),\n",
       " ('all', 'DT'),\n",
       " ('formats', 'NNS'),\n",
       " ('of', 'IN'),\n",
       " ('the', 'DT'),\n",
       " ('game', 'NN'),\n",
       " ('.', '.')]"
      ]
     },
     "execution_count": 10,
     "metadata": {},
     "output_type": "execute_result"
    }
   ],
   "source": [
    "nltk.download('averaged_perceptron_tagger_eng')\n",
    "\n",
    "tagged  = nltk.pos_tag(word)\n",
    "tagged"
   ]
  },
  {
   "cell_type": "code",
   "execution_count": 16,
   "id": "151a0b0d",
   "metadata": {},
   "outputs": [
    {
     "name": "stderr",
     "output_type": "stream",
     "text": [
      "[nltk_data] Downloading package maxent_ne_chunker_tab to\n",
      "[nltk_data]     C:\\Users\\imake\\AppData\\Roaming\\nltk_data...\n",
      "[nltk_data]   Package maxent_ne_chunker_tab is already up-to-date!\n",
      "[nltk_data] Downloading package words to\n",
      "[nltk_data]     C:\\Users\\imake\\AppData\\Roaming\\nltk_data...\n",
      "[nltk_data]   Unzipping corpora\\words.zip.\n"
     ]
    }
   ],
   "source": [
    "nltk.download('maxent_ne_chunker_tab')\n",
    "nltk.download('words')\n",
    "\n",
    "nltk.ne_chunk(tagged).draw()"
   ]
  },
  {
   "cell_type": "code",
   "execution_count": null,
   "id": "dd33c3f4",
   "metadata": {},
   "outputs": [],
   "source": []
  }
 ],
 "metadata": {
  "kernelspec": {
   "display_name": "env",
   "language": "python",
   "name": "python3"
  },
  "language_info": {
   "codemirror_mode": {
    "name": "ipython",
    "version": 3
   },
   "file_extension": ".py",
   "mimetype": "text/x-python",
   "name": "python",
   "nbconvert_exporter": "python",
   "pygments_lexer": "ipython3",
   "version": "3.12.2"
  }
 },
 "nbformat": 4,
 "nbformat_minor": 5
}
