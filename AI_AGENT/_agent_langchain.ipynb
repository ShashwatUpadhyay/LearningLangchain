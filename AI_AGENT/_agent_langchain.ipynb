{
 "cells": [
  {
   "cell_type": "code",
   "execution_count": null,
   "id": "7ec2db53",
   "metadata": {},
   "outputs": [],
   "source": [
    "from langchain_google_genai import ChatGoogleGenerativeAI\n",
    "from langchain_community.tools import DuckDuckGoSearchRun\n",
    "from langchain_core.tools import tool\n",
    "from dotenv import load_dotenv\n",
    "\n",
    "load_dotenv()"
   ]
  },
  {
   "cell_type": "code",
   "execution_count": 17,
   "id": "3b58d7e3",
   "metadata": {},
   "outputs": [
    {
     "data": {
      "text/plain": [
       "\"2 days ago - Climate change in India is often thought to be the cause. The retreat of Himalayan glaciers has adversely affected the flow rate of the major Himalayan rivers, including the Ganges and the Brahmaputra. According to some current projections, the number and severity of droughts in India will have markedly increased by the end of the present century. 12 hours ago - Congress leader and Karnataka minister Priyank Kharge on Monday launched a sharp counterattack against Assam Chief Minister Himanta Biswa Sarma, accusing him and the BJP of deliberately misrepresenting his remarks about semiconductor investments. An 800-page chargesheet has been filed against Harshvardhan Jain, the alleged mastermind behind a fake embassy racket that duped businessmen across India. 4 days ago - Modi said a new era in women's empowerment will begin in Bihar on November 14, when the BJP-led National Democratic Alliance (NDA) is voted back to power ... The chief minister recently directed the department to provide training to the state's youth for Agniveer recruitment ... India Energy Storage Alliance (IESA), in its Automotive Electrification in India Market Report, highlighted key electrification trends in the country's automotive industry 2 days ago - Shreyas Iyer's parents are set to fly to Australia after the India ODI vice-captain was admitted to the ICU in Sydney . Chhath Festival 2025: The festival is a way to express gratitude to the Sun God for providing energy and sustenance. 1 day ago - While a punitive 50 per cent tariff levied by the US on Indian goods is still in place, recent comments from Washington and New Delhi have raised optimism it will be reduced ... Management guided gross credit cost would trend down from current levels over the next two quarters.\""
      ]
     },
     "execution_count": 17,
     "metadata": {},
     "output_type": "execute_result"
    }
   ],
   "source": [
    "search_tool = DuckDuckGoSearchRun()\n",
    "\n",
    "result = search_tool.invoke(\"What is the current news in india?\")\n",
    "\n",
    "result"
   ]
  },
  {
   "cell_type": "code",
   "execution_count": 18,
   "id": "5ff8af21",
   "metadata": {},
   "outputs": [],
   "source": [
    "\n",
    "llm = ChatGoogleGenerativeAI(\n",
    "    model=\"gemini-2.0-flash\",  # or another supported model name\n",
    "    temperature=0.7,\n",
    "    max_tokens=None,  # use default or set a limit\n",
    "    timeout=None,\n",
    "    max_retries=2\n",
    ")\n"
   ]
  },
  {
   "cell_type": "code",
   "execution_count": 19,
   "id": "c5a08339",
   "metadata": {},
   "outputs": [
    {
     "data": {
      "text/plain": [
       "AIMessage(content='Hi there! How can I help you today?', additional_kwargs={}, response_metadata={'prompt_feedback': {'block_reason': 0, 'safety_ratings': []}, 'finish_reason': 'STOP', 'safety_ratings': []}, id='lc_run--19cf31e2-d5d3-44e9-b294-f4bbce0f0fae-0', usage_metadata={'input_tokens': 1, 'output_tokens': 11, 'total_tokens': 12, 'input_token_details': {'cache_read': 0}})"
      ]
     },
     "execution_count": 19,
     "metadata": {},
     "output_type": "execute_result"
    }
   ],
   "source": [
    "llm.invoke('hi')"
   ]
  },
  {
   "cell_type": "code",
   "execution_count": 21,
   "id": "845dff5d",
   "metadata": {},
   "outputs": [
    {
     "ename": "ImportError",
     "evalue": "cannot import name 'hub' from 'langchain' (d:\\GRIND\\GEN_AI\\LangChain\\env2\\Lib\\site-packages\\langchain\\__init__.py)",
     "output_type": "error",
     "traceback": [
      "\u001b[31m---------------------------------------------------------------------------\u001b[39m",
      "\u001b[31mImportError\u001b[39m                               Traceback (most recent call last)",
      "\u001b[36mCell\u001b[39m\u001b[36m \u001b[39m\u001b[32mIn[21]\u001b[39m\u001b[32m, line 2\u001b[39m\n\u001b[32m      1\u001b[39m \u001b[38;5;28;01mfrom\u001b[39;00m\u001b[38;5;250m \u001b[39m\u001b[34;01mlangchain\u001b[39;00m\u001b[34;01m.\u001b[39;00m\u001b[34;01magents\u001b[39;00m\u001b[38;5;250m \u001b[39m\u001b[38;5;28;01mimport\u001b[39;00m create_agent\n\u001b[32m----> \u001b[39m\u001b[32m2\u001b[39m \u001b[38;5;28;01mfrom\u001b[39;00m\u001b[38;5;250m \u001b[39m\u001b[34;01mlangchain\u001b[39;00m\u001b[38;5;250m \u001b[39m\u001b[38;5;28;01mimport\u001b[39;00m hub\n",
      "\u001b[31mImportError\u001b[39m: cannot import name 'hub' from 'langchain' (d:\\GRIND\\GEN_AI\\LangChain\\env2\\Lib\\site-packages\\langchain\\__init__.py)"
     ]
    }
   ],
   "source": [
    "from langchain.agents import create_agent\n",
    "from langchain import hub"
   ]
  },
  {
   "cell_type": "code",
   "execution_count": null,
   "id": "bf06fc5f",
   "metadata": {},
   "outputs": [],
   "source": []
  }
 ],
 "metadata": {
  "kernelspec": {
   "display_name": "env2",
   "language": "python",
   "name": "python3"
  },
  "language_info": {
   "codemirror_mode": {
    "name": "ipython",
    "version": 3
   },
   "file_extension": ".py",
   "mimetype": "text/x-python",
   "name": "python",
   "nbconvert_exporter": "python",
   "pygments_lexer": "ipython3",
   "version": "3.12.10"
  }
 },
 "nbformat": 4,
 "nbformat_minor": 5
}
