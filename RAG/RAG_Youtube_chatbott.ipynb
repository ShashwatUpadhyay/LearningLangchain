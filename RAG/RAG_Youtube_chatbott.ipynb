{
 "cells": [
  {
   "cell_type": "code",
   "execution_count": 2,
   "id": "c7b4c9ba",
   "metadata": {},
   "outputs": [
    {
     "data": {
      "text/plain": [
       "True"
      ]
     },
     "execution_count": 2,
     "metadata": {},
     "output_type": "execute_result"
    }
   ],
   "source": [
    "from langchain_google_genai import ChatGoogleGenerativeAI, GoogleGenerativeAIEmbeddings\n",
    "from langchain_core.prompts import PromptTemplate\n",
    "from langchain_core.output_parsers import StrOutputParser, JsonOutputParser\n",
    "from langchain.schema.runnable import RunnableParallel, RunnableSequence\n",
    "# from youtube_transcript_api import YouTubeTranscriptApi, TranscriptsDisabled\n",
    "from langchain.text_splitter import RecursiveCharacterTextSplitter\n",
    "from langchain_community.vectorstores import FAISS\n",
    "from langchain_community.document_loaders import YoutubeLoader\n",
    "from dotenv import load_dotenv\n",
    "\n",
    "load_dotenv()"
   ]
  },
  {
   "cell_type": "code",
   "execution_count": 3,
   "id": "47d4367e",
   "metadata": {},
   "outputs": [],
   "source": [
    "model = ChatGoogleGenerativeAI(\n",
    "    model=\"gemini-2.0-flash\",  # or another supported model name\n",
    "    temperature=0.7,\n",
    "    max_tokens=None,  # use default or set a limit\n",
    "    timeout=None,\n",
    "    max_retries=2\n",
    ")\n",
    "\n",
    "embedding_model = GoogleGenerativeAIEmbeddings(model=\"models/gemini-embedding-001\")"
   ]
  },
  {
   "cell_type": "code",
   "execution_count": 7,
   "id": "e5da292c",
   "metadata": {},
   "outputs": [
    {
     "name": "stdout",
     "output_type": "stream",
     "text": [
      "Recently, I've been itching to build something \n",
      "with C, both to improve my skills with the   language, but also to actually just make a \n",
      "project. I knew I wanted to make something   terminal focused because I wanted to play around \n",
      "with making ANSI codes for coloring terminal   text. I also wanted to work with images in C. I do \n",
      "have some experience with computer vision stuff,   but not really in a low-level context. I decided \n",
      "to write a little project that would take in an   image and then print it out to the terminal using \n",
      "ASCII characters and terminal colors. We've also got   a little secret sauce going on to highlight the \n",
      "edges of the image. In order to print an image,   you first need to load it in from storage. I \n",
      "initially wanted to write my own bitmap parser,   which would have been simple enough, but \n",
      "I wanted this to work for any file type,   and parsing JPEG and PNG files seemed a \n",
      "little bit trickier. After some digging,   I found this library called STB image that looked \n",
      "really simple to use. I also appreciated that it   was all in a single header file. So setting it \n",
      "up was as simple as downloading the file and then   writing an include statement. So how does it work? \n",
      "Loading an image amounts to getting the metadata   like the width and height of the image as well \n",
      "as the number of channels it has (so for example,   red, green, blue), and then allocating an array \n",
      "for each of the pixel channel values. Note that   the image data is stored as an array of unsigned \n",
      "characters. The array is made by flattening the   image and then splitting out each channel. We \n",
      "use unsigned characters because it's one byte per   value and each value is between 0 and 255. Next, \n",
      "we have to resize the image. This is because we   want to render the image in the terminal. And if \n",
      "your terminal is only 100 characters or so wide,   we don't want it to start wrapping around. We \n",
      "also need to be careful because characters in   the terminal usually have height-to-width ratios \n",
      "of around 2:1. And so we also need to shrink the   image in height so that when we print out each \n",
      "pixel, the character stretches it back out. There   are a few different ways to shrink the image. \n",
      "The smoothest option is to average over all the   pixel values in a given region and then use that \n",
      "value as the new pixel. Finally, we can actually   print the image to the screen. If a pixel in the \n",
      "image is brighter, we're going to use a more full   ASCII character. While this works and looks great \n",
      "for some images, it's quite hard to see what's   going on for others. An easy fix here is to add \n",
      "extra contrast with colors. We can add colors to   our terminal text by using ANSI escape sequences. \n",
      "These are pretty neat and pretty simple to use. By   just printing out a special keyword, the terminal \n",
      "will know to interpret that in a certain way. The   simplest example is '\\n', which tells the terminal \n",
      "to move the cursor to the next line. Conveniently,   there's a set of these which we can use to change \n",
      "the color of the text, and they're quite well   supported. How do we decide what color to use for \n",
      "each pixel? I do this by converting the pixel RGB   values into HSV, which stands for hue, saturation, \n",
      "and value. To understand what's going on here,   let's talk about visualizing color space. A \n",
      "single pixel has three values, red, green,   and blue. We can think of this as a vector in \n",
      "3D. And since each channel value is constrained   between 0 and 1, all the possible colors we \n",
      "can make fall into a cube. Now look at what   happens when we look at this cube from one of \n",
      "its corners. You can see that we get the color   wheel or in this case more of a color hexagon. \n",
      "But by transforming this cube, we can turn it   into a cylinder. Specifically, this is the HSV \n",
      "cylinder. The polar coordinate gives the hue,   the radial coordinate gives the saturation, \n",
      "and the axial component gives the value.   It's pretty straightforward then to decide what \n",
      "color we want each pixel to print as. We use the   value to determine what character gets assigned to \n",
      "a given pixel. Now turning to the saturation. If   the saturation is low, the pixel is close to being \n",
      "on the grayscale. And so we can just make that   pixel white. If the saturation is high, the pixel \n",
      "is more colorful. So if it's in the red region,   we'll round it to red. If it's in the yellow \n",
      "region, we round it to yellow, etc. And so now   the outputs from these are way better but are \n",
      "still missing something very important. A key   feature of ASCII art is that it highlights edges \n",
      "by using the underscore slashes and vertical bar.   So we need to be able to not just detect edges \n",
      "but also what direction they face. The obvious   choice here is so edge detection. There are two \n",
      "soble kernels, one for the x direction and one   for the y. Running a convolution of these kernels \n",
      "with our image gives us a scaled approximation of   the gradient. And the gradient is just a vector \n",
      "that points in the direction of steepest ascent.   So when the gradient is large, the pixel values \n",
      "change sharply and so there must be an edge   there. We can get the direction of the edge by \n",
      "looking at the angle of the gradient. All in all,   I'm pretty happy with the results. This was \n",
      "a really fun project. It was nice to get   some experience with C. And if you want to play \n",
      "around with this, all of the code is on GitHub.   Please feel free to check it out or feel free \n",
      "to add anything if you have any suggestions.\n"
     ]
    }
   ],
   "source": [
    "loader = YoutubeLoader.from_youtube_url(\n",
    "    youtube_url='https://www.youtube.com/watch?v=t8aSqlC_Duo',\n",
    "    add_video_info=False\n",
    ")\n",
    "\n",
    "try:\n",
    "    transcript_list =  loader.load()\n",
    "    \n",
    "    transcript = \" \".join(chunk.page_content for chunk in transcript_list)\n",
    "    print(transcript)\n",
    "except Exception as e:\n",
    "    print(e)\n",
    "    print(\"Transcripts are disabled for this video.\")"
   ]
  },
  {
   "cell_type": "code",
   "execution_count": 8,
   "id": "421ff971",
   "metadata": {},
   "outputs": [
    {
     "data": {
      "text/plain": [
       "[Document(metadata={'source': 't8aSqlC_Duo'}, page_content=\"Recently, I've been itching to build something\\xa0\\nwith C, both to improve my skills with the\\xa0\\xa0 language, but also to actually just make a\\xa0\\nproject. I knew I wanted to make something\\xa0\\xa0 terminal focused because I wanted to play around\\xa0\\nwith making ANSI codes for coloring terminal\\xa0\\xa0 text. I also wanted to work with images in C. I do\\xa0\\nhave some experience with computer vision stuff,\\xa0\\xa0 but not really in a low-level context. I decided\\xa0\\nto write a little project that would take in an\\xa0\\xa0 image and then print it out to the terminal using\\xa0\\nASCII characters and terminal colors. We've also got\\xa0\\xa0 a little secret sauce going on to highlight the\\xa0\\nedges of the image. In order to print an image,\\xa0\\xa0 you first need to load it in from storage. I\\xa0\\ninitially wanted to write my own bitmap parser,\\xa0\\xa0 which would have been simple enough, but\\xa0\\nI wanted this to work for any file type,\\xa0\\xa0 and parsing JPEG and PNG files seemed a\\xa0\\nlittle bit trickier. After some digging,\\xa0\\xa0 I found this library called STB image that looked\\xa0\\nreally simple to use. I also appreciated that it\\xa0\\xa0 was all in a single header file. So setting it\\xa0\\nup was as simple as downloading the file and then\\xa0\\xa0 writing an include statement. So how does it work?\\xa0\\nLoading an image amounts to getting the metadata\\xa0\\xa0 like the width and height of the image as well\\xa0\\nas the number of channels it has (so for example,\\xa0\\xa0 red, green, blue), and then allocating an array\\xa0\\nfor each of the pixel channel values. Note that\\xa0\\xa0 the image data is stored as an array of unsigned\\xa0\\ncharacters. The array is made by flattening the\\xa0\\xa0 image and then splitting out each channel. We\\xa0\\nuse unsigned characters because it's one byte per\\xa0\\xa0 value and each value is between 0 and 255. Next,\\xa0\\nwe have to resize the image. This is because we\\xa0\\xa0 want to render the image in the terminal. And if\\xa0\\nyour terminal is only 100 characters or so wide,\\xa0\\xa0 we don't want it to start wrapping around. We\\xa0\\nalso need to be careful because characters in\\xa0\\xa0 the terminal usually have height-to-width ratios\\xa0\\nof around 2:1. And so we also need to shrink the\\xa0\\xa0 image in height so that when we print out each\\xa0\\npixel, the character stretches it back out. There\\xa0\\xa0 are a few different ways to shrink the image.\\xa0\\nThe smoothest option is to average over all the\\xa0\\xa0 pixel values in a given region and then use that\\xa0\\nvalue as the new pixel. Finally, we can actually\\xa0\\xa0 print the image to the screen. If a pixel in the\\xa0\\nimage is brighter, we're going to use a more full\\xa0\\xa0 ASCII character. While this works and looks great\\xa0\\nfor some images, it's quite hard to see what's\\xa0\\xa0 going on for others. An easy fix here is to add\\xa0\\nextra contrast with colors. We can add colors to\\xa0\\xa0 our terminal text by using ANSI escape sequences.\\xa0\\nThese are pretty neat and pretty simple to use. By\\xa0\\xa0 just printing out a special keyword, the terminal\\xa0\\nwill know to interpret that in a certain way. The\\xa0\\xa0 simplest example is '\\\\n', which tells the terminal\\xa0\\nto move the cursor to the next line. Conveniently,\\xa0\\xa0 there's a set of these which we can use to change\\xa0\\nthe color of the text, and they're quite well\\xa0\\xa0 supported. How do we decide what color to use for\\xa0\\neach pixel? I do this by converting the pixel RGB\\xa0\\xa0 values into HSV, which stands for hue, saturation,\\xa0\\nand value. To understand what's going on here,\\xa0\\xa0 let's talk about visualizing color space. A\\xa0\\nsingle pixel has three values, red, green,\\xa0\\xa0 and blue. We can think of this as a vector in\\xa0\\n3D. And since each channel value is constrained\\xa0\\xa0 between 0 and 1, all the possible colors we\\xa0\\ncan make fall into a cube. Now look at what\\xa0\\xa0 happens when we look at this cube from one of\\xa0\\nits corners. You can see that we get the color\\xa0\\xa0 wheel or in this case more of a color hexagon.\\xa0\\nBut by transforming this cube, we can turn it\\xa0\\xa0 into a cylinder. Specifically, this is the HSV\\xa0\\ncylinder. The polar coordinate gives the hue,\\xa0\\xa0 the radial coordinate gives the saturation,\\xa0\\nand the axial component gives the value.\\xa0\\xa0 It's pretty straightforward then to decide what\\xa0\\ncolor we want each pixel to print as. We use the\\xa0\\xa0 value to determine what character gets assigned to\\xa0\\na given pixel. Now turning to the saturation. If\\xa0\\xa0 the saturation is low, the pixel is close to being\\xa0\\non the grayscale. And so we can just make that\\xa0\\xa0 pixel white. If the saturation is high, the pixel\\xa0\\nis more colorful. So if it's in the red region,\\xa0\\xa0 we'll round it to red. If it's in the yellow\\xa0\\nregion, we round it to yellow, etc. And so now\\xa0\\xa0 the outputs from these are way better but are\\xa0\\nstill missing something very important. A key\\xa0\\xa0 feature of ASCII art is that it highlights edges\\xa0\\nby using the underscore slashes and vertical bar.\\xa0\\xa0 So we need to be able to not just detect edges\\xa0\\nbut also what direction they face. The obvious\\xa0\\xa0 choice here is so edge detection. There are two\\xa0\\nsoble kernels, one for the x direction and one\\xa0\\xa0 for the y. Running a convolution of these kernels\\xa0\\nwith our image gives us a scaled approximation of\\xa0\\xa0 the gradient. And the gradient is just a vector\\xa0\\nthat points in the direction of steepest ascent.\\xa0\\xa0 So when the gradient is large, the pixel values\\xa0\\nchange sharply and so there must be an edge\\xa0\\xa0 there. We can get the direction of the edge by\\xa0\\nlooking at the angle of the gradient. All in all,\\xa0\\xa0 I'm pretty happy with the results. This was\\xa0\\na really fun project. It was nice to get\\xa0\\xa0 some experience with C. And if you want to play\\xa0\\naround with this, all of the code is on GitHub.\\xa0\\xa0 Please feel free to check it out or feel free\\xa0\\nto add anything if you have any suggestions.\")]"
      ]
     },
     "execution_count": 8,
     "metadata": {},
     "output_type": "execute_result"
    }
   ],
   "source": [
    "transcript_list"
   ]
  },
  {
   "cell_type": "code",
   "execution_count": null,
   "id": "2a8e6ae1",
   "metadata": {},
   "outputs": [],
   "source": []
  }
 ],
 "metadata": {
  "kernelspec": {
   "display_name": "env",
   "language": "python",
   "name": "python3"
  },
  "language_info": {
   "codemirror_mode": {
    "name": "ipython",
    "version": 3
   },
   "file_extension": ".py",
   "mimetype": "text/x-python",
   "name": "python",
   "nbconvert_exporter": "python",
   "pygments_lexer": "ipython3",
   "version": "3.13.0"
  }
 },
 "nbformat": 4,
 "nbformat_minor": 5
}
