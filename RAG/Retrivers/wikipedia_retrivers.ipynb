{
 "cells": [
  {
   "cell_type": "code",
   "execution_count": 1,
   "id": "94638d6a",
   "metadata": {},
   "outputs": [],
   "source": [
    "from langchain_community.retrievers import WikipediaRetriever"
   ]
  },
  {
   "cell_type": "code",
   "execution_count": 3,
   "id": "2ebd4322",
   "metadata": {},
   "outputs": [],
   "source": [
    "retriver = WikipediaRetriever(top_k_results=2, lang=\"en\")"
   ]
  },
  {
   "cell_type": "code",
   "execution_count": 10,
   "id": "de2fdfd3",
   "metadata": {},
   "outputs": [],
   "source": [
    "query = \"what happen in recent summit in china, why putin calls modi in his car?\"\n",
    "\n",
    "docs = retriver.invoke(query)"
   ]
  },
  {
   "cell_type": "code",
   "execution_count": 11,
   "id": "13c7ab07",
   "metadata": {},
   "outputs": [
    {
     "name": "stdout",
     "output_type": "stream",
     "text": [
      "Document 1:\n",
      "Page Content: Narendra Damodardas Modi (born 17 September 1950) is an Indian politician who has served as the  prime minister of India since 2014. Modi was the chief minister of Gujarat from 2001 to 2014 and is the member of parliament (MP) for Varanasi. He is a member of the Bharatiya Janata Party (BJP) and of the Rashtriya Swayamsevak Sangh (RSS), a right-wing Hindutva paramilitary volunteer organisation. He is the longest-serving prime minister outside the Indian National Congress.\n",
      "Modi was born and raised in Vadnagar, Bombay State (present-day Gujarat), where he completed his secondary education. He was introduced to the RSS at the age of eight, becoming a full-time worker for the organisation in Gujarat in 1971. The RSS assigned him to the BJP in 1985, and he rose through the party hierarchy, becoming general secretary in 1998. In 2001, Modi was appointed chief minister of Gujarat and elected to the legislative assembly soon after. His administration is considered complicit in the 2002 Gujarat riots and has been criticised for its management of the crisis. According to official records, a little over 1,000 people were killed, three-quarters of whom were Muslim; independent sources estimated 2,000 deaths, mostly Muslim. A Special Investigation Team appointed by the Supreme Court of India in 2012 found no evidence to initiate prosecution proceedings against him. While his policies as chief minister were credited for encouraging economic growth, his administration was criticised for failing to significantly improve health, poverty and education indices in the state.\n",
      "In the 2014 Indian general election, Modi led the BJP to a parliamentary majority, the first for a party since 1984. His administration increased direct foreign investment and reduced spending on healthcare, education, and social-welfare programs. Modi began a high-profile sanitation campaign and weakened or abolished environmental and labour laws. His demonetisation of banknotes in 2016 and introduction of the Goods and Services Tax in 2017 sparked controversy. Modi's administration launched the 2019 Balakot airstrike against an alleged terrorist training camp in Pakistan; the airstrike failed, but the action had nationalist appeal. Modi's party won the 2019 general election which followed. In its second term, his administration revoked the special status of Jammu and Kashmir and introduced the Citizenship Amendment Act, prompting widespread protests and spurring the 2020 Delhi riots in which Muslims were brutalised and killed by Hindu mobs. Three controversial farm laws led to sit-ins by farmers across the country, eventually causing their formal repeal. Modi oversaw India's response to the COVID-19 pandemic, during which, according to the World Health Organization, 4.7 million Indians died. In the 2024 general election, Modi's party lost its majority in the lower house of Parliament and formed a government leading the National Democratic Alliance coalition. Following a terrorist attack in Indian-administered Jammu and Kashmir, Modi presided over the 2025 India–Pakistan conflict, which resulted in a ceasefire.\n",
      "Under Modi's tenure, India has experienced democratic backsliding and has shifted towards an authoritarian style of government, with a cult of personality centred around him. As prime minister, he has received consistently high approval ratings within India. Modi has been described as engineering a political realignment towards right-wing politics. He remains a highly controversial figure domestically and internationally over his Hindu nationalist beliefs and handling of the Gujarat riots, which have been cited as evidence of a majoritarian and exclusionary social agenda.\n",
      "\n",
      "\n",
      "== Early life and education ==\n",
      "Narendra Damodardas Modi was born on 17 September 1950 to a Gujarati family of Other Backward Class (OBC) background and Hindu faith in Vadnagar, Mehsana district, Bombay State (present-day Gujarat). He was the third of six children born to Damodardas Mulchand Modi (c.\n",
      "Metadata: {'title': 'Narendra Modi', 'summary': \"Narendra Damodardas Modi (born 17 September 1950) is an Indian politician who has served as the  prime minister of India since 2014. Modi was the chief minister of Gujarat from 2001 to 2014 and is the member of parliament (MP) for Varanasi. He is a member of the Bharatiya Janata Party (BJP) and of the Rashtriya Swayamsevak Sangh (RSS), a right-wing Hindutva paramilitary volunteer organisation. He is the longest-serving prime minister outside the Indian National Congress.\\nModi was born and raised in Vadnagar, Bombay State (present-day Gujarat), where he completed his secondary education. He was introduced to the RSS at the age of eight, becoming a full-time worker for the organisation in Gujarat in 1971. The RSS assigned him to the BJP in 1985, and he rose through the party hierarchy, becoming general secretary in 1998. In 2001, Modi was appointed chief minister of Gujarat and elected to the legislative assembly soon after. His administration is considered complicit in the 2002 Gujarat riots and has been criticised for its management of the crisis. According to official records, a little over 1,000 people were killed, three-quarters of whom were Muslim; independent sources estimated 2,000 deaths, mostly Muslim. A Special Investigation Team appointed by the Supreme Court of India in 2012 found no evidence to initiate prosecution proceedings against him. While his policies as chief minister were credited for encouraging economic growth, his administration was criticised for failing to significantly improve health, poverty and education indices in the state.\\nIn the 2014 Indian general election, Modi led the BJP to a parliamentary majority, the first for a party since 1984. His administration increased direct foreign investment and reduced spending on healthcare, education, and social-welfare programs. Modi began a high-profile sanitation campaign and weakened or abolished environmental and labour laws. His demonetisation of banknotes in 2016 and introduction of the Goods and Services Tax in 2017 sparked controversy. Modi's administration launched the 2019 Balakot airstrike against an alleged terrorist training camp in Pakistan; the airstrike failed, but the action had nationalist appeal. Modi's party won the 2019 general election which followed. In its second term, his administration revoked the special status of Jammu and Kashmir and introduced the Citizenship Amendment Act, prompting widespread protests and spurring the 2020 Delhi riots in which Muslims were brutalised and killed by Hindu mobs. Three controversial farm laws led to sit-ins by farmers across the country, eventually causing their formal repeal. Modi oversaw India's response to the COVID-19 pandemic, during which, according to the World Health Organization, 4.7 million Indians died. In the 2024 general election, Modi's party lost its majority in the lower house of Parliament and formed a government leading the National Democratic Alliance coalition. Following a terrorist attack in Indian-administered Jammu and Kashmir, Modi presided over the 2025 India–Pakistan conflict, which resulted in a ceasefire.\\nUnder Modi's tenure, India has experienced democratic backsliding and has shifted towards an authoritarian style of government, with a cult of personality centred around him. As prime minister, he has received consistently high approval ratings within India. Modi has been described as engineering a political realignment towards right-wing politics. He remains a highly controversial figure domestically and internationally over his Hindu nationalist beliefs and handling of the Gujarat riots, which have been cited as evidence of a majoritarian and exclusionary social agenda.\\n\\n\", 'source': 'https://en.wikipedia.org/wiki/Narendra_Modi'}\n",
      "\n",
      "\n",
      "Document 2:\n",
      "Page Content: The foreign policy of the second Donald Trump administration has been described as imperialist and expansionist in its approach to the Americas, and isolationist in its approach to Europe, espousing a realist \"America First\" foreign policy agenda. It has been characterized as a 'hardline' version of the Monroe Doctrine, and likened to the foreign policy of former president William McKinley.\n",
      "Trump's administration was described as breaking the post-1945 rules-based liberal international order and abandoning multilateralism. He dismantled or withdrew support from domestic and international organizations dedicated to promoting American soft power, instead favoring hard power. The moves were described as ceding American global influence and creating a void filled by Russia and China. Trump's relations with U.S. allies have been transactional and ranged from indifference to hostility, while he has sought friendlier relations with certain U.S. adversaries. The actions saw large drops in global public opinion of America.\n",
      "Trump started a trade war with Canada and Mexico and continued the ongoing trade war with China. He has repeatedly expressed his desire to annex Canada, Greenland, and the Panama Canal. He has taken a hardline pro-Israel stance and opposed South Africa's genocide case against Israel. In response to the Gaza war, he proposed taking over the Gaza Strip, forcibly relocating the Palestinian population to other Arab states like Jordan and Egypt , and making Gaza into a special economic zone. In June 2025, he authorized strikes against Iranian nuclear sites. Trump has sought realignment with Vladimir Putin's Russia, a longtime adversary of the U.S. To end the Russian invasion of Ukraine, Trump's administration offered concessions to Russia; it also said that Ukraine bore partial responsibility for the invasion. These moves have been criticized by most of the United States' allies and by many international organizations.\n",
      "\n",
      "\n",
      "== Appointments ==\n",
      "\n",
      "\n",
      "== Analysis ==\n",
      "\n",
      "Trump's foreign policy was described as ignoring protocol and shunning experts in favor of personally loyal and inexperinced envoys to solve problems with \"common sense and hard-nosed savvy\". Trump's longtime friend and New York real estate developer, Steven Witkoff, was given multiple high-stakes tasks as Trump's special envoy. Witkoff stated his inexperience was an asset that gave him fresh eyes on world conflicts, and Trump's allies derided career diplomatic, military and intelligence officers who they claimed lacked the boldness and savvy of private-sector businessmen. The New York Times described Trump as confusing flattery from world leaders as indicitive of their willingness to compromise their national interests.\n",
      "Trump favored blunt-force and strong-arm tactics with allies and adversaries to achieve his foreign policy goals, favoring hard power and dispensing with traditional American diplomatic tools. His administration dismantled or withdrew support from domestic and international organizations dedicated to advancing American soft power. Trump's decision to rename the United States Department of Defense to the \"Department of War\" was evidenced as indicative of the administration's dim view of diplomacy and playing into foreign propaganda describing America as an aggressive power. Foreign policy experts described the moves to shutter USAID, Voice of America, and other organizations promoting American influence as diminishing America's global influence and creating a void that was filled by China and Russia. His administration saw large drops in global public opinion of the United States.\n",
      "In September 2025, Pentagon leadership unveiled a draft of the National Defense Strategy which prioritized domestic and regional missions rather than combating Russia and China in a dramatic shift from prior plans.\n",
      "The administration is generally opposed to international cooperation on areas such as the environment, global health, or the economy, which it views as against the \n",
      "Metadata: {'title': 'Foreign policy of the second Trump administration', 'summary': 'The foreign policy of the second Donald Trump administration has been described as imperialist and expansionist in its approach to the Americas, and isolationist in its approach to Europe, espousing a realist \"America First\" foreign policy agenda. It has been characterized as a \\'hardline\\' version of the Monroe Doctrine, and likened to the foreign policy of former president William McKinley.\\nTrump\\'s administration was described as breaking the post-1945 rules-based liberal international order and abandoning multilateralism. He dismantled or withdrew support from domestic and international organizations dedicated to promoting American soft power, instead favoring hard power. The moves were described as ceding American global influence and creating a void filled by Russia and China. Trump\\'s relations with U.S. allies have been transactional and ranged from indifference to hostility, while he has sought friendlier relations with certain U.S. adversaries. The actions saw large drops in global public opinion of America.\\nTrump started a trade war with Canada and Mexico and continued the ongoing trade war with China. He has repeatedly expressed his desire to annex Canada, Greenland, and the Panama Canal. He has taken a hardline pro-Israel stance and opposed South Africa\\'s genocide case against Israel. In response to the Gaza war, he proposed taking over the Gaza Strip, forcibly relocating the Palestinian population to other Arab states like Jordan and Egypt , and making Gaza into a special economic zone. In June 2025, he authorized strikes against Iranian nuclear sites. Trump has sought realignment with Vladimir Putin\\'s Russia, a longtime adversary of the U.S. To end the Russian invasion of Ukraine, Trump\\'s administration offered concessions to Russia; it also said that Ukraine bore partial responsibility for the invasion. These moves have been criticized by most of the United States\\' allies and by many international organizations.', 'source': 'https://en.wikipedia.org/wiki/Foreign_policy_of_the_second_Trump_administration'}\n",
      "\n",
      "\n"
     ]
    }
   ],
   "source": [
    "for i, docs in enumerate(docs):\n",
    "    print(f\"Document {i+1}:\")\n",
    "    print(\"Page Content:\", docs.page_content)\n",
    "    print(\"Metadata:\", docs.metadata)\n",
    "    print(\"\\n\")"
   ]
  },
  {
   "cell_type": "code",
   "execution_count": null,
   "id": "e69458c1",
   "metadata": {},
   "outputs": [],
   "source": []
  }
 ],
 "metadata": {
  "kernelspec": {
   "display_name": "env",
   "language": "python",
   "name": "python3"
  },
  "language_info": {
   "codemirror_mode": {
    "name": "ipython",
    "version": 3
   },
   "file_extension": ".py",
   "mimetype": "text/x-python",
   "name": "python",
   "nbconvert_exporter": "python",
   "pygments_lexer": "ipython3",
   "version": "3.13.0"
  }
 },
 "nbformat": 4,
 "nbformat_minor": 5
}
