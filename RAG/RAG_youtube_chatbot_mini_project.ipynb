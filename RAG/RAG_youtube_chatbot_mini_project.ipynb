{
 "cells": [
  {
   "cell_type": "code",
   "execution_count": 2,
   "id": "becc744e",
   "metadata": {},
   "outputs": [
    {
     "data": {
      "text/plain": [
       "True"
      ]
     },
     "execution_count": 2,
     "metadata": {},
     "output_type": "execute_result"
    }
   ],
   "source": [
    "from langchain_google_genai import ChatGoogleGenerativeAI, GoogleGenerativeAIEmbeddings\n",
    "from langchain_core.prompts import PromptTemplate\n",
    "from langchain_core.output_parsers import StrOutputParser, JsonOutputParser\n",
    "from langchain_core.runnables import RunnableParallel, RunnableSequence, RunnableLambda, RunnablePassthrough\n",
    "from youtube_transcript_api import YouTubeTranscriptApi, TranscriptsDisabled\n",
    "from langchain_text_splitters  import RecursiveCharacterTextSplitter\n",
    "from langchain_community.vectorstores import FAISS\n",
    "from dotenv import load_dotenv\n",
    "\n",
    "load_dotenv()"
   ]
  },
  {
   "cell_type": "markdown",
   "id": "0302e989",
   "metadata": {},
   "source": [
    "# Load Document"
   ]
  },
  {
   "cell_type": "code",
   "execution_count": 4,
   "id": "15ab4ba5",
   "metadata": {},
   "outputs": [
    {
     "name": "stdout",
     "output_type": "stream",
     "text": [
      "Recently, I've been itching to build something \n",
      "with C, both to improve my skills with the   language, but also to actually just make a \n",
      "project. I knew I wanted to make something   terminal focused because I wanted to play around \n",
      "with making ANSI codes for coloring terminal   text. I also wanted to work with images in C. I do \n",
      "have some experience with computer vision stuff,   but not really in a low-level context. I decided \n",
      "to write a little project that would take in an   image and then print it out to the terminal using \n",
      "ASCII characters and terminal colors. We've also got   a little secret sauce going on to highlight the \n",
      "edges of the image. In order to print an image,   you first need to load it in from storage. I \n",
      "initially wanted to write my own bitmap parser,   which would have been simple enough, but \n",
      "I wanted this to work for any file type,   and parsing JPEG and PNG files seemed a \n",
      "little bit trickier. After some digging,   I found this library called STB image that looked \n",
      "really simple to use. I also appreciated that it   was all in a single header file. So setting it \n",
      "up was as simple as downloading the file and then   writing an include statement. So how does it work? \n",
      "Loading an image amounts to getting the metadata   like the width and height of the image as well \n",
      "as the number of channels it has (so for example,   red, green, blue), and then allocating an array \n",
      "for each of the pixel channel values. Note that   the image data is stored as an array of unsigned \n",
      "characters. The array is made by flattening the   image and then splitting out each channel. We \n",
      "use unsigned characters because it's one byte per   value and each value is between 0 and 255. Next, \n",
      "we have to resize the image. This is because we   want to render the image in the terminal. And if \n",
      "your terminal is only 100 characters or so wide,   we don't want it to start wrapping around. We \n",
      "also need to be careful because characters in   the terminal usually have height-to-width ratios \n",
      "of around 2:1. And so we also need to shrink the   image in height so that when we print out each \n",
      "pixel, the character stretches it back out. There   are a few different ways to shrink the image. \n",
      "The smoothest option is to average over all the   pixel values in a given region and then use that \n",
      "value as the new pixel. Finally, we can actually   print the image to the screen. If a pixel in the \n",
      "image is brighter, we're going to use a more full   ASCII character. While this works and looks great \n",
      "for some images, it's quite hard to see what's   going on for others. An easy fix here is to add \n",
      "extra contrast with colors. We can add colors to   our terminal text by using ANSI escape sequences. \n",
      "These are pretty neat and pretty simple to use. By   just printing out a special keyword, the terminal \n",
      "will know to interpret that in a certain way. The   simplest example is '\\n', which tells the terminal \n",
      "to move the cursor to the next line. Conveniently,   there's a set of these which we can use to change \n",
      "the color of the text, and they're quite well   supported. How do we decide what color to use for \n",
      "each pixel? I do this by converting the pixel RGB   values into HSV, which stands for hue, saturation, \n",
      "and value. To understand what's going on here,   let's talk about visualizing color space. A \n",
      "single pixel has three values, red, green,   and blue. We can think of this as a vector in \n",
      "3D. And since each channel value is constrained   between 0 and 1, all the possible colors we \n",
      "can make fall into a cube. Now look at what   happens when we look at this cube from one of \n",
      "its corners. You can see that we get the color   wheel or in this case more of a color hexagon. \n",
      "But by transforming this cube, we can turn it   into a cylinder. Specifically, this is the HSV \n",
      "cylinder. The polar coordinate gives the hue,   the radial coordinate gives the saturation, \n",
      "and the axial component gives the value.   It's pretty straightforward then to decide what \n",
      "color we want each pixel to print as. We use the   value to determine what character gets assigned to \n",
      "a given pixel. Now turning to the saturation. If   the saturation is low, the pixel is close to being \n",
      "on the grayscale. And so we can just make that   pixel white. If the saturation is high, the pixel \n",
      "is more colorful. So if it's in the red region,   we'll round it to red. If it's in the yellow \n",
      "region, we round it to yellow, etc. And so now   the outputs from these are way better but are \n",
      "still missing something very important. A key   feature of ASCII art is that it highlights edges \n",
      "by using the underscore slashes and vertical bar.   So we need to be able to not just detect edges \n",
      "but also what direction they face. The obvious   choice here is so edge detection. There are two \n",
      "soble kernels, one for the x direction and one   for the y. Running a convolution of these kernels \n",
      "with our image gives us a scaled approximation of   the gradient. And the gradient is just a vector \n",
      "that points in the direction of steepest ascent.   So when the gradient is large, the pixel values \n",
      "change sharply and so there must be an edge   there. We can get the direction of the edge by \n",
      "looking at the angle of the gradient. All in all,   I'm pretty happy with the results. This was \n",
      "a really fun project. It was nice to get   some experience with C. And if you want to play \n",
      "around with this, all of the code is on GitHub.   Please feel free to check it out or feel free \n",
      "to add anything if you have any suggestions.\n"
     ]
    }
   ],
   "source": [
    "video_id = 't8aSqlC_Duo'\n",
    "ytt_api = YouTubeTranscriptApi()\n",
    "\n",
    "try:\n",
    "    transcript_list =  ytt_api.fetch(video_id)\n",
    "\n",
    "    transcript = \" \".join(chunk.text for chunk in transcript_list)\n",
    "    print(transcript)\n",
    "except Exception as e:\n",
    "    print(e)\n",
    "    # print(\"Transcripts are disabled for this video.\")"
   ]
  },
  {
   "cell_type": "markdown",
   "id": "f1531550",
   "metadata": {},
   "source": [
    "# Text Splitter"
   ]
  },
  {
   "cell_type": "code",
   "execution_count": 5,
   "id": "798c34b0",
   "metadata": {},
   "outputs": [],
   "source": [
    "splitter = RecursiveCharacterTextSplitter(chunk_size=300, chunk_overlap=100)\n",
    "chunks = splitter.create_documents([transcript])"
   ]
  },
  {
   "cell_type": "code",
   "execution_count": 6,
   "id": "92658171",
   "metadata": {},
   "outputs": [
    {
     "data": {
      "text/plain": [
       "27"
      ]
     },
     "execution_count": 6,
     "metadata": {},
     "output_type": "execute_result"
    }
   ],
   "source": [
    "len(chunks)"
   ]
  },
  {
   "cell_type": "code",
   "execution_count": 7,
   "id": "7dcf8651",
   "metadata": {},
   "outputs": [
    {
     "name": "stdout",
     "output_type": "stream",
     "text": [
      "really simple to use. I also appreciated that it   was all in a single header file. So setting it \n",
      "up was as simple as downloading the file and then   writing an include statement. So how does it work?\n"
     ]
    }
   ],
   "source": [
    "print(chunks[5].page_content)"
   ]
  },
  {
   "cell_type": "code",
   "execution_count": 9,
   "id": "0fd98ce0",
   "metadata": {},
   "outputs": [],
   "source": [
    "embeddings = GoogleGenerativeAIEmbeddings(model=\"models/gemini-embedding-001\")\n",
    "vectorstore = FAISS.from_documents(chunks, embeddings)"
   ]
  },
  {
   "cell_type": "code",
   "execution_count": 10,
   "id": "1f08c8b9",
   "metadata": {},
   "outputs": [
    {
     "data": {
      "text/plain": [
       "{0: '9b690c88-5788-43c3-94bf-367165567e6e',\n",
       " 1: '326631fd-4169-4b43-b2e2-8020e06a90b6',\n",
       " 2: '5f5f240a-f189-43f3-8c8b-8594d7afd978',\n",
       " 3: 'a849811f-d58d-4767-b817-8996cc41f3fb',\n",
       " 4: '7c9bd200-adf8-436e-a8a0-6742f014a2e6',\n",
       " 5: '1bc08967-23aa-4b94-aa20-9e3bda9b1dd1',\n",
       " 6: 'c5aa1f07-1a62-4c17-a130-288a59270515',\n",
       " 7: '2622b3aa-59b7-49da-bf8c-232e20c64a82',\n",
       " 8: 'b7ed5a52-ed00-43e2-af3b-a6c091826061',\n",
       " 9: '40d1b2e0-f2fa-4e63-b1cb-2cdec4332143',\n",
       " 10: '3bbab34a-20b8-4f96-95a1-c381ae0b5773',\n",
       " 11: 'd10f4e78-24b0-4d4d-8e24-2b318a6fc9f4',\n",
       " 12: 'bc6cf8d4-9102-468a-a8b6-ad345c2c172c',\n",
       " 13: '7c5057a4-83ce-4bc4-af8b-aabf4015d9c2',\n",
       " 14: '02188667-41e2-4411-b276-8fda5326eda6',\n",
       " 15: 'b0b846a4-37e7-4a7d-8ff1-6500836d3572',\n",
       " 16: '2b796d4a-bd25-4aac-b28c-b9c310ecafca',\n",
       " 17: '03c4001e-ee79-48ad-9a1e-7db7093e779b',\n",
       " 18: 'c567f8e1-5006-4864-83b2-d3d4ec76295a',\n",
       " 19: 'a106c22b-eaae-4f8d-bfa8-c69155757898',\n",
       " 20: '4597edd1-4757-4987-a963-4c744002a1b9',\n",
       " 21: '803541fa-e7ae-4a3c-a138-237e17f1d67a',\n",
       " 22: '5b5d218f-9c4f-478a-97f1-b1f3bbd7fb4e',\n",
       " 23: '63652aec-770b-4ad7-a845-6226a95af40a',\n",
       " 24: 'adbd958d-365d-45b3-9a01-4881bc61745e',\n",
       " 25: '0090f865-ba64-472c-aa94-d250ba497b68',\n",
       " 26: '4a340c22-6a89-4a91-9420-66283601ac7a'}"
      ]
     },
     "execution_count": 10,
     "metadata": {},
     "output_type": "execute_result"
    }
   ],
   "source": [
    "vectorstore.index_to_docstore_id"
   ]
  },
  {
   "cell_type": "code",
   "execution_count": 11,
   "id": "cabde433",
   "metadata": {},
   "outputs": [
    {
     "data": {
      "text/plain": [
       "[]"
      ]
     },
     "execution_count": 11,
     "metadata": {},
     "output_type": "execute_result"
    }
   ],
   "source": [
    "vectorstore.get_by_ids(['2770b3a5-e5ad-430d-947d-08cf68eef6dc'])"
   ]
  },
  {
   "cell_type": "code",
   "execution_count": 12,
   "id": "f82d245d",
   "metadata": {},
   "outputs": [],
   "source": [
    "retriver = vectorstore.as_retriever(search_type='similarity',search_kwargs={\"k\": 2})"
   ]
  },
  {
   "cell_type": "code",
   "execution_count": 13,
   "id": "90585c8d",
   "metadata": {},
   "outputs": [
    {
     "data": {
      "text/plain": [
       "VectorStoreRetriever(tags=['FAISS', 'GoogleGenerativeAIEmbeddings'], vectorstore=<langchain_community.vectorstores.faiss.FAISS object at 0x000001B8D95ECA40>, search_kwargs={'k': 2})"
      ]
     },
     "execution_count": 13,
     "metadata": {},
     "output_type": "execute_result"
    }
   ],
   "source": [
    "retriver\n"
   ]
  },
  {
   "cell_type": "code",
   "execution_count": 14,
   "id": "46563558",
   "metadata": {},
   "outputs": [
    {
     "data": {
      "text/plain": [
       "[Document(id='bc6cf8d4-9102-468a-a8b6-ad345c2c172c', metadata={}, page_content=\"for some images, it's quite hard to see what's\\xa0\\xa0 going on for others. An easy fix here is to add\\xa0\\nextra contrast with colors. We can add colors to\\xa0\\xa0 our terminal text by using ANSI escape sequences.\"),\n",
       " Document(id='02188667-41e2-4411-b276-8fda5326eda6', metadata={}, page_content=\"to move the cursor to the next line. Conveniently,\\xa0\\xa0 there's a set of these which we can use to change\\xa0\\nthe color of the text, and they're quite well\\xa0\\xa0 supported. How do we decide what color to use for\")]"
      ]
     },
     "execution_count": 14,
     "metadata": {},
     "output_type": "execute_result"
    }
   ],
   "source": [
    "retriver.invoke(\"how can i color a text in terminal\")"
   ]
  },
  {
   "cell_type": "code",
   "execution_count": 15,
   "id": "9831d362",
   "metadata": {},
   "outputs": [],
   "source": [
    "llm = ChatGoogleGenerativeAI(\n",
    "    model=\"gemini-2.0-flash\",  # or another supported model name\n",
    "    temperature=0.2,\n",
    "    max_tokens=None,  # use default or set a limit\n",
    "    timeout=None\n",
    ")"
   ]
  },
  {
   "cell_type": "code",
   "execution_count": 16,
   "id": "665caa3e",
   "metadata": {},
   "outputs": [],
   "source": [
    "prompt = PromptTemplate(\n",
    "    template = \"\"\"\n",
    "    You are a helpful assistant that answers questions ONLY from the provided context. If the context is insufficient, just say you dont know.\n",
    "    The context is provided below.\n",
    "    {context}\n",
    "    Question: {question}\n",
    "    Answer:\n",
    "    \"\"\",\n",
    "    input_variables=[\"context\", \"question\"]\n",
    ")"
   ]
  },
  {
   "cell_type": "code",
   "execution_count": 17,
   "id": "b073f955",
   "metadata": {},
   "outputs": [],
   "source": [
    "question = \"how can i color a text in terminal\"\n",
    "\n",
    "retriver_docs = retriver.invoke(question)"
   ]
  },
  {
   "cell_type": "code",
   "execution_count": 18,
   "id": "4f336332",
   "metadata": {},
   "outputs": [],
   "source": [
    "def format_docs(docs):\n",
    "    return \"\\n\\n\".join(doc.page_content for doc in docs)\n",
    "context = format_docs(retriver_docs)"
   ]
  },
  {
   "cell_type": "code",
   "execution_count": 19,
   "id": "e094089b",
   "metadata": {},
   "outputs": [
    {
     "name": "stdout",
     "output_type": "stream",
     "text": [
      "for some images, it's quite hard to see what's   going on for others. An easy fix here is to add \n",
      "extra contrast with colors. We can add colors to   our terminal text by using ANSI escape sequences.\n",
      "\n",
      "to move the cursor to the next line. Conveniently,   there's a set of these which we can use to change \n",
      "the color of the text, and they're quite well   supported. How do we decide what color to use for\n"
     ]
    }
   ],
   "source": [
    "print(context)"
   ]
  },
  {
   "cell_type": "code",
   "execution_count": 20,
   "id": "a88ab241",
   "metadata": {},
   "outputs": [
    {
     "name": "stdout",
     "output_type": "stream",
     "text": [
      "text=\"\\n    You are a helpful assistant that answers questions ONLY from the provided context. If the context is insufficient, just say you dont know.\\n    The context is provided below.\\n    for some images, it's quite hard to see what's\\xa0\\xa0 going on for others. An easy fix here is to add\\xa0\\nextra contrast with colors. We can add colors to\\xa0\\xa0 our terminal text by using ANSI escape sequences.\\n\\nto move the cursor to the next line. Conveniently,\\xa0\\xa0 there's a set of these which we can use to change\\xa0\\nthe color of the text, and they're quite well\\xa0\\xa0 supported. How do we decide what color to use for\\n    Question: how can i color a text in terminal\\n    Answer:\\n    \"\n"
     ]
    }
   ],
   "source": [
    "final_prompt = prompt.invoke({\"context\": context, \"question\": question})\n",
    "print(final_prompt)"
   ]
  },
  {
   "cell_type": "code",
   "execution_count": 21,
   "id": "ad41a588",
   "metadata": {},
   "outputs": [],
   "source": [
    "answer = llm.invoke(final_prompt)"
   ]
  },
  {
   "cell_type": "code",
   "execution_count": 22,
   "id": "22bd1ae6",
   "metadata": {},
   "outputs": [
    {
     "data": {
      "text/plain": [
       "'You can add colors to your terminal text by using ANSI escape sequences.'"
      ]
     },
     "execution_count": 22,
     "metadata": {},
     "output_type": "execute_result"
    }
   ],
   "source": [
    "answer.content"
   ]
  },
  {
   "cell_type": "code",
   "execution_count": 23,
   "id": "1d094999",
   "metadata": {},
   "outputs": [],
   "source": [
    "parallel_chain = RunnableParallel(\n",
    "    {    \n",
    "    'context' : retriver | RunnableLambda(format_docs),\n",
    "    'question' : RunnablePassthrough()\n",
    "    }\n",
    ")"
   ]
  },
  {
   "cell_type": "code",
   "execution_count": 24,
   "id": "396d8fb1",
   "metadata": {},
   "outputs": [
    {
     "data": {
      "text/plain": [
       "{'context': \"for some images, it's quite hard to see what's\\xa0\\xa0 going on for others. An easy fix here is to add\\xa0\\nextra contrast with colors. We can add colors to\\xa0\\xa0 our terminal text by using ANSI escape sequences.\\n\\nto move the cursor to the next line. Conveniently,\\xa0\\xa0 there's a set of these which we can use to change\\xa0\\nthe color of the text, and they're quite well\\xa0\\xa0 supported. How do we decide what color to use for\",\n",
       " 'question': 'how can i color a text in terminal'}"
      ]
     },
     "execution_count": 24,
     "metadata": {},
     "output_type": "execute_result"
    }
   ],
   "source": [
    "parallel_chain.invoke(question)"
   ]
  },
  {
   "cell_type": "code",
   "execution_count": 25,
   "id": "2a613815",
   "metadata": {},
   "outputs": [],
   "source": [
    "main_chain = parallel_chain | prompt | llm | StrOutputParser()"
   ]
  },
  {
   "cell_type": "code",
   "execution_count": 26,
   "id": "1bfff5ad",
   "metadata": {},
   "outputs": [
    {
     "data": {
      "text/plain": [
       "'You can add colors to your terminal text by using ANSI escape sequences.'"
      ]
     },
     "execution_count": 26,
     "metadata": {},
     "output_type": "execute_result"
    }
   ],
   "source": [
    "main_chain.invoke(question)"
   ]
  },
  {
   "cell_type": "code",
   "execution_count": null,
   "id": "7e4b2e36",
   "metadata": {},
   "outputs": [],
   "source": []
  }
 ],
 "metadata": {
  "kernelspec": {
   "display_name": "env2",
   "language": "python",
   "name": "python3"
  },
  "language_info": {
   "codemirror_mode": {
    "name": "ipython",
    "version": 3
   },
   "file_extension": ".py",
   "mimetype": "text/x-python",
   "name": "python",
   "nbconvert_exporter": "python",
   "pygments_lexer": "ipython3",
   "version": "3.12.10"
  }
 },
 "nbformat": 4,
 "nbformat_minor": 5
}
