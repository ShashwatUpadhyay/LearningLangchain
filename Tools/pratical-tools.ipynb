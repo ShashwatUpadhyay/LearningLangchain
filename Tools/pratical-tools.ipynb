{
 "cells": [
  {
   "cell_type": "code",
   "execution_count": 1,
   "id": "8a7ddc96",
   "metadata": {},
   "outputs": [
    {
     "name": "stderr",
     "output_type": "stream",
     "text": [
      "d:\\GRIND\\GEN_AI\\LangChain\\env2\\Lib\\site-packages\\tqdm\\auto.py:21: TqdmWarning: IProgress not found. Please update jupyter and ipywidgets. See https://ipywidgets.readthedocs.io/en/stable/user_install.html\n",
      "  from .autonotebook import tqdm as notebook_tqdm\n"
     ]
    },
    {
     "data": {
      "text/plain": [
       "True"
      ]
     },
     "execution_count": 1,
     "metadata": {},
     "output_type": "execute_result"
    }
   ],
   "source": [
    "from langchain_core.tools import tool\n",
    "from langchain_core.messages import HumanMessage\n",
    "from langchain_google_genai import ChatGoogleGenerativeAI\n",
    "import requests\n",
    "from dotenv import load_dotenv\n",
    "\n",
    "load_dotenv()"
   ]
  },
  {
   "cell_type": "code",
   "execution_count": 2,
   "id": "cb20f321",
   "metadata": {},
   "outputs": [],
   "source": [
    "# tool\n",
    "\n",
    "@tool\n",
    "def Multiply(a: int, b: int) -> int:\n",
    "    \"\"\"Multiply two numbers and return the result.\"\"\"\n",
    "    return a * b"
   ]
  },
  {
   "cell_type": "code",
   "execution_count": 3,
   "id": "8c1f00c2",
   "metadata": {},
   "outputs": [
    {
     "name": "stdout",
     "output_type": "stream",
     "text": [
      "6\n",
      "Multiply\n",
      "Multiply two numbers and return the result.\n",
      "{'a': {'title': 'A', 'type': 'integer'}, 'b': {'title': 'B', 'type': 'integer'}}\n"
     ]
    }
   ],
   "source": [
    "print(Multiply.invoke({\"a\": 2, \"b\": 3}))\n",
    "print(Multiply.name)\n",
    "print(Multiply.description)\n",
    "print(Multiply.args)"
   ]
  },
  {
   "cell_type": "code",
   "execution_count": 4,
   "id": "478cc82a",
   "metadata": {},
   "outputs": [],
   "source": [
    "model = ChatGoogleGenerativeAI(\n",
    "    model=\"gemini-2.0-flash\",  # or another supported model name\n",
    "    temperature=0.7,\n",
    "    max_tokens=None,  # use default or set a limit\n",
    "    timeout=None,\n",
    "    max_retries=2\n",
    ")\n",
    "\n",
    "#tool binding\n",
    "model_with_tools = model.bind_tools([Multiply])"
   ]
  },
  {
   "cell_type": "code",
   "execution_count": 5,
   "id": "5a549860",
   "metadata": {},
   "outputs": [],
   "source": [
    "query = HumanMessage(\"can you multiply 817234 with 143824\")"
   ]
  },
  {
   "cell_type": "code",
   "execution_count": 6,
   "id": "30c4620f",
   "metadata": {},
   "outputs": [],
   "source": [
    "messages = [query]"
   ]
  },
  {
   "cell_type": "code",
   "execution_count": 7,
   "id": "d42c6e58",
   "metadata": {},
   "outputs": [],
   "source": [
    "# tool calling\n",
    "suggested_tools = model_with_tools.invoke(messages)"
   ]
  },
  {
   "cell_type": "code",
   "execution_count": 8,
   "id": "e9a28424",
   "metadata": {},
   "outputs": [],
   "source": [
    "messages.append(suggested_tools)"
   ]
  },
  {
   "cell_type": "code",
   "execution_count": 9,
   "id": "1215e004",
   "metadata": {},
   "outputs": [],
   "source": [
    "tool_result = Multiply.invoke(suggested_tools.tool_calls[0])"
   ]
  },
  {
   "cell_type": "code",
   "execution_count": 10,
   "id": "bbaf45d4",
   "metadata": {},
   "outputs": [],
   "source": [
    "messages.append(tool_result)"
   ]
  },
  {
   "cell_type": "code",
   "execution_count": 11,
   "id": "51eea942",
   "metadata": {},
   "outputs": [
    {
     "data": {
      "text/plain": [
       "[HumanMessage(content='can you multiply 817234 with 143824', additional_kwargs={}, response_metadata={}),\n",
       " AIMessage(content='', additional_kwargs={'function_call': {'name': 'Multiply', 'arguments': '{\"a\": 817234.0, \"b\": 143824.0}'}}, response_metadata={'prompt_feedback': {'block_reason': 0, 'safety_ratings': []}, 'finish_reason': 'STOP', 'safety_ratings': []}, id='run--3503f6ca-99b2-498b-8a6d-ebdaa1b27b91-0', tool_calls=[{'name': 'Multiply', 'args': {'a': 817234.0, 'b': 143824.0}, 'id': 'eea44c63-797b-4a8d-9d49-c4f24cf0629d', 'type': 'tool_call'}], usage_metadata={'input_tokens': 34, 'output_tokens': 5, 'total_tokens': 39, 'input_token_details': {'cache_read': 0}}),\n",
       " ToolMessage(content='117537862816', name='Multiply', tool_call_id='eea44c63-797b-4a8d-9d49-c4f24cf0629d')]"
      ]
     },
     "execution_count": 11,
     "metadata": {},
     "output_type": "execute_result"
    }
   ],
   "source": [
    "messages"
   ]
  },
  {
   "cell_type": "code",
   "execution_count": 12,
   "id": "25863922",
   "metadata": {},
   "outputs": [
    {
     "data": {
      "text/plain": [
       "AIMessage(content='The result of multiplying 817234 with 143824 is 117537862816.', additional_kwargs={}, response_metadata={'prompt_feedback': {'block_reason': 0, 'safety_ratings': []}, 'finish_reason': 'STOP', 'safety_ratings': []}, id='run--874cb415-f042-4429-9861-fca21c5b245a-0', usage_metadata={'input_tokens': 42, 'output_tokens': 35, 'total_tokens': 77, 'input_token_details': {'cache_read': 0}})"
      ]
     },
     "execution_count": 12,
     "metadata": {},
     "output_type": "execute_result"
    }
   ],
   "source": [
    "model_with_tools.invoke(messages)"
   ]
  },
  {
   "cell_type": "code",
   "execution_count": null,
   "id": "6f15f80b",
   "metadata": {},
   "outputs": [],
   "source": []
  }
 ],
 "metadata": {
  "kernelspec": {
   "display_name": "env2",
   "language": "python",
   "name": "python3"
  },
  "language_info": {
   "codemirror_mode": {
    "name": "ipython",
    "version": 3
   },
   "file_extension": ".py",
   "mimetype": "text/x-python",
   "name": "python",
   "nbconvert_exporter": "python",
   "pygments_lexer": "ipython3",
   "version": "3.12.10"
  }
 },
 "nbformat": 4,
 "nbformat_minor": 5
}
