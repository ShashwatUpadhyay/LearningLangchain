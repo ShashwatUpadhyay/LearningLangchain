{
 "cells": [
  {
   "cell_type": "markdown",
   "id": "51926ede",
   "metadata": {},
   "source": [
    "# Custom Tool"
   ]
  },
  {
   "cell_type": "markdown",
   "id": "cd861d49",
   "metadata": {},
   "source": [
    "## Method 1 - Using @tool"
   ]
  },
  {
   "cell_type": "code",
   "execution_count": 1,
   "id": "5c478634",
   "metadata": {},
   "outputs": [],
   "source": [
    "from langchain_core.tools import tool"
   ]
  },
  {
   "cell_type": "code",
   "execution_count": 5,
   "id": "ac0d2397",
   "metadata": {},
   "outputs": [],
   "source": [
    "# step-1 Create a function\n",
    "\n",
    "def multiply(a,b):\n",
    "    \"\"\"Multiply two integers together.\"\"\"\n",
    "    return a*b"
   ]
  },
  {
   "cell_type": "code",
   "execution_count": 6,
   "id": "915ef2bf",
   "metadata": {},
   "outputs": [],
   "source": [
    "# step-2 add type hints\n",
    "\n",
    "def multiply(a: int,b: int) -> int:\n",
    "    \"\"\"Multiply two integers together.\"\"\"\n",
    "    return a*b"
   ]
  },
  {
   "cell_type": "code",
   "execution_count": 7,
   "id": "298f4608",
   "metadata": {},
   "outputs": [],
   "source": [
    "# step-3 add tool decorator\n",
    "\n",
    "@tool\n",
    "def multiply(a: int,b: int) -> int:\n",
    "    \"\"\"Multiply two integers together.\"\"\"\n",
    "    return a*b"
   ]
  },
  {
   "cell_type": "code",
   "execution_count": 8,
   "id": "e4022995",
   "metadata": {},
   "outputs": [],
   "source": [
    "result = multiply.invoke({\"a\": 8, \"b\": 8})"
   ]
  },
  {
   "cell_type": "code",
   "execution_count": 9,
   "id": "9cdd45f7",
   "metadata": {},
   "outputs": [
    {
     "data": {
      "text/plain": [
       "64"
      ]
     },
     "execution_count": 9,
     "metadata": {},
     "output_type": "execute_result"
    }
   ],
   "source": [
    "result"
   ]
  },
  {
   "cell_type": "code",
   "execution_count": 10,
   "id": "0487749a",
   "metadata": {},
   "outputs": [
    {
     "name": "stdout",
     "output_type": "stream",
     "text": [
      "multiply\n",
      "Multiply two integers together.\n",
      "{'a': {'title': 'A', 'type': 'integer'}, 'b': {'title': 'B', 'type': 'integer'}}\n"
     ]
    }
   ],
   "source": [
    "print(multiply.name)\n",
    "print(multiply.description)\n",
    "print(multiply.args)"
   ]
  },
  {
   "cell_type": "code",
   "execution_count": 11,
   "id": "933fac0a",
   "metadata": {},
   "outputs": [
    {
     "name": "stdout",
     "output_type": "stream",
     "text": [
      "{'description': 'Multiply two integers together.', 'properties': {'a': {'title': 'A', 'type': 'integer'}, 'b': {'title': 'B', 'type': 'integer'}}, 'required': ['a', 'b'], 'title': 'multiply', 'type': 'object'}\n"
     ]
    }
   ],
   "source": [
    "# what llms sees\n",
    "print(multiply.args_schema.model_json_schema())"
   ]
  },
  {
   "cell_type": "markdown",
   "id": "d8c2612e",
   "metadata": {},
   "source": [
    "## Method 2 - Using StructuredTool"
   ]
  },
  {
   "cell_type": "code",
   "execution_count": 12,
   "id": "ecd10e31",
   "metadata": {},
   "outputs": [],
   "source": [
    "from langchain_core.tools import StructuredTool\n",
    "from pydantic import BaseModel , Field"
   ]
  },
  {
   "cell_type": "code",
   "execution_count": 13,
   "id": "df57e3cc",
   "metadata": {},
   "outputs": [
    {
     "name": "stderr",
     "output_type": "stream",
     "text": [
      "C:\\Users\\imake\\AppData\\Local\\Temp\\ipykernel_4260\\731872748.py:2: PydanticDeprecatedSince20: Using extra keyword arguments on `Field` is deprecated and will be removed. Use `json_schema_extra` instead. (Extra keys: 'required'). Deprecated in Pydantic V2.0 to be removed in V3.0. See Pydantic V2 Migration Guide at https://errors.pydantic.dev/2.12/migration/\n",
      "  a: int = Field( required=True, description=\"First integer to multiply\")\n",
      "C:\\Users\\imake\\AppData\\Local\\Temp\\ipykernel_4260\\731872748.py:3: PydanticDeprecatedSince20: Using extra keyword arguments on `Field` is deprecated and will be removed. Use `json_schema_extra` instead. (Extra keys: 'required'). Deprecated in Pydantic V2.0 to be removed in V3.0. See Pydantic V2 Migration Guide at https://errors.pydantic.dev/2.12/migration/\n",
      "  b: int = Field( required=True, description=\"Second integer to multiply\")\n"
     ]
    }
   ],
   "source": [
    "class MultiplyInput(BaseModel):\n",
    "    a: int = Field( required=True, description=\"First integer to multiply\")\n",
    "    b: int = Field( required=True, description=\"Second integer to multiply\")"
   ]
  },
  {
   "cell_type": "code",
   "execution_count": 15,
   "id": "8bf4d8d3",
   "metadata": {},
   "outputs": [],
   "source": [
    "def multiply_func(a: int, b: int) -> int:\n",
    "    \"\"\"Multiply two integers together.\"\"\"\n",
    "    return a*b"
   ]
  },
  {
   "cell_type": "code",
   "execution_count": 16,
   "id": "f508691f",
   "metadata": {},
   "outputs": [],
   "source": [
    "multiply_tool = StructuredTool.from_function(\n",
    "    func=multiply_func,\n",
    "    name=\"multiply\",\n",
    "    description=\"Multiply two integers together.\",\n",
    "    args_schema=MultiplyInput\n",
    ")"
   ]
  },
  {
   "cell_type": "code",
   "execution_count": null,
   "id": "61471e06",
   "metadata": {},
   "outputs": [
    {
     "name": "stdout",
     "output_type": "stream",
     "text": [
      "64\n",
      "multiply\n",
      "Multiply two integers together.\n",
      "{'a': {'description': 'First integer to multiply', 'required': True, 'title': 'A', 'type': 'integer'}, 'b': {'description': 'Second integer to multiply', 'required': True, 'title': 'B', 'type': 'integer'}}\n",
      "{'properties': {'a': {'description': 'First integer to multiply', 'required': True, 'title': 'A', 'type': 'integer'}, 'b': {'description': 'Second integer to multiply', 'required': True, 'title': 'B', 'type': 'integer'}}, 'required': ['a', 'b'], 'title': 'MultiplyInput', 'type': 'object'}\n"
     ]
    }
   ],
   "source": [
    "result = multiply_tool.invoke({\"a\": 8, \"b\": 8})\n",
    "\n",
    "print(result)\n",
    "print(multiply_tool.name)\n",
    "print(multiply_tool.description)\n",
    "print(multiply_tool.args)\n",
    "print(multiply_tool.args_schema.model_json_schema())\n"
   ]
  },
  {
   "cell_type": "markdown",
   "id": "6ab98bfb",
   "metadata": {},
   "source": [
    "## Method 3 - Using BaseTool"
   ]
  },
  {
   "cell_type": "code",
   "execution_count": 24,
   "id": "500cd94e",
   "metadata": {},
   "outputs": [],
   "source": [
    "from langchain.tools import BaseTool\n",
    "from typing import Type"
   ]
  },
  {
   "cell_type": "code",
   "execution_count": null,
   "id": "174f73c8",
   "metadata": {},
   "outputs": [
    {
     "name": "stderr",
     "output_type": "stream",
     "text": [
      "C:\\Users\\imake\\AppData\\Local\\Temp\\ipykernel_4260\\731872748.py:2: PydanticDeprecatedSince20: Using extra keyword arguments on `Field` is deprecated and will be removed. Use `json_schema_extra` instead. (Extra keys: 'required'). Deprecated in Pydantic V2.0 to be removed in V3.0. See Pydantic V2 Migration Guide at https://errors.pydantic.dev/2.12/migration/\n",
      "  a: int = Field( required=True, description=\"First integer to multiply\")\n",
      "C:\\Users\\imake\\AppData\\Local\\Temp\\ipykernel_4260\\731872748.py:3: PydanticDeprecatedSince20: Using extra keyword arguments on `Field` is deprecated and will be removed. Use `json_schema_extra` instead. (Extra keys: 'required'). Deprecated in Pydantic V2.0 to be removed in V3.0. See Pydantic V2 Migration Guide at https://errors.pydantic.dev/2.12/migration/\n",
      "  b: int = Field( required=True, description=\"Second integer to multiply\")\n"
     ]
    }
   ],
   "source": [
    "class MultiplyInput(BaseTool):\n",
    "    a: int = Field( required=True, description=\"First integer to multiply\")\n",
    "    b: int = Field( required=True, description=\"Second integer to multiply\")"
   ]
  },
  {
   "cell_type": "code",
   "execution_count": 30,
   "id": "14555531",
   "metadata": {},
   "outputs": [],
   "source": [
    "class MultiplyTool(BaseTool):\n",
    "    name: str = \"multiply\"\n",
    "    description: str =  \"Multiply two intigers\"\n",
    "    \n",
    "    args_schema: Type[BaseModel] = MultiplyInput\n",
    "    \n",
    "    def _run(self, a: int, b: int) -> int:\n",
    "        return a*b"
   ]
  },
  {
   "cell_type": "code",
   "execution_count": 31,
   "id": "a707597d",
   "metadata": {},
   "outputs": [],
   "source": [
    "multiply_tool = MultiplyTool()\n",
    "result = multiply_tool.invoke({\"a\": 8, \"b\": 8})"
   ]
  },
  {
   "cell_type": "code",
   "execution_count": 33,
   "id": "6e506b8b",
   "metadata": {},
   "outputs": [
    {
     "name": "stdout",
     "output_type": "stream",
     "text": [
      "64\n",
      "multiply\n",
      "Multiply two intigers\n",
      "{'a': {'description': 'First integer to multiply', 'required': True, 'title': 'A', 'type': 'integer'}, 'b': {'description': 'Second integer to multiply', 'required': True, 'title': 'B', 'type': 'integer'}}\n",
      "{'properties': {'a': {'description': 'First integer to multiply', 'required': True, 'title': 'A', 'type': 'integer'}, 'b': {'description': 'Second integer to multiply', 'required': True, 'title': 'B', 'type': 'integer'}}, 'required': ['a', 'b'], 'title': 'MultiplyInput', 'type': 'object'}\n"
     ]
    }
   ],
   "source": [
    "print(result)\n",
    "print(multiply_tool.name)\n",
    "print(multiply_tool.description)\n",
    "print(multiply_tool.args)\n",
    "print(multiply_tool.args_schema.model_json_schema())\n"
   ]
  },
  {
   "cell_type": "code",
   "execution_count": 34,
   "id": "a9818001",
   "metadata": {},
   "outputs": [],
   "source": [
    "@tool\n",
    "def add(a: int, b: int) -> int:\n",
    "    \"\"\"Add two integers together.\"\"\"\n",
    "    return a+b"
   ]
  },
  {
   "cell_type": "code",
   "execution_count": 35,
   "id": "03485515",
   "metadata": {},
   "outputs": [],
   "source": [
    "class MathToolKit:\n",
    "    def get_tools(self): \n",
    "        return [multiply_tool, add]"
   ]
  },
  {
   "cell_type": "code",
   "execution_count": 42,
   "id": "b37de00c",
   "metadata": {},
   "outputs": [
    {
     "name": "stdout",
     "output_type": "stream",
     "text": [
      "<class 'list'>\n",
      "64\n",
      "16\n"
     ]
    }
   ],
   "source": [
    "tools = MathToolKit().get_tools()\n",
    "\n",
    "print(type(tools))\n",
    "\n",
    "for tool in tools:\n",
    "    print(tool.invoke({\"a\": 8, \"b\": 8}))\n",
    "    \n",
    "# testing tools \n"
   ]
  },
  {
   "cell_type": "code",
   "execution_count": null,
   "id": "ba6b6cbe",
   "metadata": {},
   "outputs": [],
   "source": []
  },
  {
   "cell_type": "code",
   "execution_count": null,
   "id": "190f247e",
   "metadata": {},
   "outputs": [],
   "source": []
  }
 ],
 "metadata": {
  "kernelspec": {
   "display_name": "env",
   "language": "python",
   "name": "python3"
  },
  "language_info": {
   "codemirror_mode": {
    "name": "ipython",
    "version": 3
   },
   "file_extension": ".py",
   "mimetype": "text/x-python",
   "name": "python",
   "nbconvert_exporter": "python",
   "pygments_lexer": "ipython3",
   "version": "3.13.0"
  }
 },
 "nbformat": 4,
 "nbformat_minor": 5
}
