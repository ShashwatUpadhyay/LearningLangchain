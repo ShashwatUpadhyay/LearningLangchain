{
 "cells": [
  {
   "cell_type": "code",
   "execution_count": 1,
   "id": "3df82fb1",
   "metadata": {},
   "outputs": [
    {
     "name": "stderr",
     "output_type": "stream",
     "text": [
      "d:\\GRIND\\GEN_AI\\LangChain\\env2\\Lib\\site-packages\\tqdm\\auto.py:21: TqdmWarning: IProgress not found. Please update jupyter and ipywidgets. See https://ipywidgets.readthedocs.io/en/stable/user_install.html\n",
      "  from .autonotebook import tqdm as notebook_tqdm\n"
     ]
    },
    {
     "data": {
      "text/plain": [
       "True"
      ]
     },
     "execution_count": 1,
     "metadata": {},
     "output_type": "execute_result"
    }
   ],
   "source": [
    "from langchain_core.tools import tool\n",
    "from langchain_core.messages import HumanMessage\n",
    "from langchain_google_genai import ChatGoogleGenerativeAI\n",
    "import requests\n",
    "from dotenv import load_dotenv\n",
    "\n",
    "load_dotenv()"
   ]
  },
  {
   "cell_type": "code",
   "execution_count": 18,
   "id": "1b2730c6",
   "metadata": {},
   "outputs": [],
   "source": [
    "from langchain_core.tools import InjectedToolArg\n",
    "from typing import Annotated"
   ]
  },
  {
   "cell_type": "code",
   "execution_count": 19,
   "id": "5ee9466b",
   "metadata": {},
   "outputs": [],
   "source": [
    "@tool\n",
    "def get_conversion_factor(base_currency: str, target_currency: str) -> float:\n",
    "    '''\n",
    "     This function fetches the currency conversion factor between a given base currency and target currency\n",
    "    '''\n",
    "    url = f\"https://v6.exchangerate-api.com/v6/5468efe4266161b81cdbec99/pair/{base_currency}/{target_currency}\"\n",
    "    response = requests.get(url)\n",
    "    data = response.json()\n",
    "    return data\n",
    "\n",
    "@tool\n",
    "def convert_currency(base_currency_value: int, conversion_rate: Annotated[float, InjectedToolArg]) -> float:\n",
    "    '''\n",
    "     given a currency rate this finction calculates the target value form a giver base currency value\n",
    "    '''\n",
    "    return base_currency_value * conversion_rate"
   ]
  },
  {
   "cell_type": "code",
   "execution_count": 20,
   "id": "766fe335",
   "metadata": {},
   "outputs": [
    {
     "data": {
      "text/plain": [
       "{'result': 'success',\n",
       " 'documentation': 'https://www.exchangerate-api.com/docs',\n",
       " 'terms_of_use': 'https://www.exchangerate-api.com/terms',\n",
       " 'time_last_update_unix': 1761523201,\n",
       " 'time_last_update_utc': 'Mon, 27 Oct 2025 00:00:01 +0000',\n",
       " 'time_next_update_unix': 1761609601,\n",
       " 'time_next_update_utc': 'Tue, 28 Oct 2025 00:00:01 +0000',\n",
       " 'base_code': 'USD',\n",
       " 'target_code': 'INR',\n",
       " 'conversion_rate': 87.9117}"
      ]
     },
     "execution_count": 20,
     "metadata": {},
     "output_type": "execute_result"
    }
   ],
   "source": [
    "get_conversion_factor.invoke({\"base_currency\": \"USD\", \"target_currency\": \"INR\"})"
   ]
  },
  {
   "cell_type": "code",
   "execution_count": 21,
   "id": "f9fee72c",
   "metadata": {},
   "outputs": [
    {
     "data": {
      "text/plain": [
       "8791.17"
      ]
     },
     "execution_count": 21,
     "metadata": {},
     "output_type": "execute_result"
    }
   ],
   "source": [
    "convert_currency.invoke({\"base_currency_value\": 100, \"conversion_rate\": 87.9117})"
   ]
  },
  {
   "cell_type": "code",
   "execution_count": 42,
   "id": "78b9d27b",
   "metadata": {},
   "outputs": [],
   "source": [
    "# tool binding\n",
    "\n",
    "model = ChatGoogleGenerativeAI(\n",
    "    model=\"gemini-2.0-flash\",  # or another supported model name\n",
    "    temperature=0.7,\n",
    "    max_tokens=None,  # use default or set a limit\n",
    "    timeout=None,\n",
    "    max_retries=2\n",
    ")\n",
    "\n",
    "#tool binding\n",
    "model_with_tools = model.bind_tools([get_conversion_factor, convert_currency])"
   ]
  },
  {
   "cell_type": "code",
   "execution_count": 48,
   "id": "2e795036",
   "metadata": {},
   "outputs": [],
   "source": [
    "messages = [HumanMessage('What is the conversion factor betwwen USD and INR, and convert 10 USD to INR')]"
   ]
  },
  {
   "cell_type": "code",
   "execution_count": 49,
   "id": "38926b60",
   "metadata": {},
   "outputs": [],
   "source": [
    "model_message = model_with_tools.invoke(messages)\n",
    "messages.append(model_message)"
   ]
  },
  {
   "cell_type": "code",
   "execution_count": 50,
   "id": "5a78f91d",
   "metadata": {},
   "outputs": [],
   "source": [
    "import json\n",
    "for tool_call in model_message.tool_calls:\n",
    "    #execte the 1st tool and get the value  of conversion rate\n",
    "    if tool_call['name'] == 'get_conversion_factor':\n",
    "        tool_message1 = get_conversion_factor.invoke(tool_call)\n",
    "        conversion_rate = json.loads(tool_message1.content)['conversion_rate']\n",
    "        messages.append(tool_message1)\n",
    "    \n",
    "    if tool_call['name'] == 'convert_currency':\n",
    "        tool_call['args']['conversion_rate'] = conversion_rate\n",
    "        tool_message2 = convert_currency.invoke(tool_call)\n",
    "        messages.append(tool_message2)"
   ]
  },
  {
   "cell_type": "code",
   "execution_count": 51,
   "id": "41ddf71b",
   "metadata": {},
   "outputs": [
    {
     "data": {
      "text/plain": [
       "[HumanMessage(content='What is the conversion factor betwwen USD and INR, and convert 10 USD to INR', additional_kwargs={}, response_metadata={}),\n",
       " AIMessage(content='', additional_kwargs={'function_call': {'name': 'convert_currency', 'arguments': '{\"base_currency_value\": 10.0}'}}, response_metadata={'prompt_feedback': {'block_reason': 0, 'safety_ratings': []}, 'finish_reason': 'STOP', 'safety_ratings': []}, id='run--ef0145c7-fd4e-422f-a236-98d34c1f736f-0', tool_calls=[{'name': 'get_conversion_factor', 'args': {'target_currency': 'INR', 'base_currency': 'USD'}, 'id': '049f83ec-9394-410a-9e59-6e5733bc6848', 'type': 'tool_call'}, {'name': 'convert_currency', 'args': {'base_currency_value': 10.0, 'conversion_rate': 87.9117}, 'id': 'bbb911a5-365c-4f73-a56c-2e2152e3448b', 'type': 'tool_call'}], usage_metadata={'input_tokens': 88, 'output_tokens': 22, 'total_tokens': 110, 'input_token_details': {'cache_read': 0}}),\n",
       " ToolMessage(content='{\"result\": \"success\", \"documentation\": \"https://www.exchangerate-api.com/docs\", \"terms_of_use\": \"https://www.exchangerate-api.com/terms\", \"time_last_update_unix\": 1761523201, \"time_last_update_utc\": \"Mon, 27 Oct 2025 00:00:01 +0000\", \"time_next_update_unix\": 1761609601, \"time_next_update_utc\": \"Tue, 28 Oct 2025 00:00:01 +0000\", \"base_code\": \"USD\", \"target_code\": \"INR\", \"conversion_rate\": 87.9117}', name='get_conversion_factor', tool_call_id='049f83ec-9394-410a-9e59-6e5733bc6848'),\n",
       " ToolMessage(content='879.117', name='convert_currency', tool_call_id='bbb911a5-365c-4f73-a56c-2e2152e3448b')]"
      ]
     },
     "execution_count": 51,
     "metadata": {},
     "output_type": "execute_result"
    }
   ],
   "source": [
    "messages"
   ]
  },
  {
   "cell_type": "code",
   "execution_count": 53,
   "id": "f1ec7557",
   "metadata": {},
   "outputs": [
    {
     "data": {
      "text/plain": [
       "'The conversion factor between USD and INR is 87.9117. 10 USD is equivalent to 879.117 INR.'"
      ]
     },
     "execution_count": 53,
     "metadata": {},
     "output_type": "execute_result"
    }
   ],
   "source": [
    "model_with_tools.invoke(messages).content"
   ]
  },
  {
   "cell_type": "code",
   "execution_count": null,
   "id": "f441d11c",
   "metadata": {},
   "outputs": [],
   "source": []
  }
 ],
 "metadata": {
  "kernelspec": {
   "display_name": "env2",
   "language": "python",
   "name": "python3"
  },
  "language_info": {
   "codemirror_mode": {
    "name": "ipython",
    "version": 3
   },
   "file_extension": ".py",
   "mimetype": "text/x-python",
   "name": "python",
   "nbconvert_exporter": "python",
   "pygments_lexer": "ipython3",
   "version": "3.12.10"
  }
 },
 "nbformat": 4,
 "nbformat_minor": 5
}
