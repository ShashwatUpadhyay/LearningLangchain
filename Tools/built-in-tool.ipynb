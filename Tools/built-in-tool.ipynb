{
 "cells": [
  {
   "cell_type": "code",
   "execution_count": 1,
   "id": "42cd8199",
   "metadata": {},
   "outputs": [],
   "source": [
    "from langchain_community.tools import DuckDuckGoSearchRun"
   ]
  },
  {
   "cell_type": "markdown",
   "id": "796d56f4",
   "metadata": {},
   "source": [
    "# Built-in Tool - DuckDuckGoSearchRun"
   ]
  },
  {
   "cell_type": "code",
   "execution_count": 3,
   "id": "a1f37e5a",
   "metadata": {},
   "outputs": [
    {
     "name": "stdout",
     "output_type": "stream",
     "text": [
      "1 month ago - India Today is a weekly Indian English-language news magazine published by Living Media India Limited. It is the most widely circulated magazine in India, with a readership of close to 8 million..In 2014, India Today launched a new online opinion-orientated site called the DailyO. 15 hours ago - A man allegedly killed his wife at their Delhi home and then called the police, claiming the woman died by suicide . Adani Ports and Special Economic Zone Ltd (APSEZ), India's largest port developer and operator, is set to showcase its role in ... This article is about various news from different parts of India including the arrest of a former principal secretary in Kerala, FATF's black list, social and emotional disability of a man, violation of poll code by DMK workers, searches conducted at four locations in Mumbai leading to recovery of money and jewellery, use of buggies for ceremonial ... See full list on indiatoday.in Myanmar, Iran and North Korea continue to be on the 'Black List' of FATF as \"high-risk jurisdictions\". See full list on indiatoday.in Former principal secretary in Kerala CM' s Office arrested for corruption in Life Mission Project, remanded till March 8. See full list on indiatoday.in A man was unable to become a father due to social and emotional disability despite being married for five years. See full list on indiatoday.in The voters were confined by DMK workers during polls which is a violation of poll code. See full list on indiatoday.in Siddiqui, the lone legislator of Indian Secular Front (ISF) was arrested after clashes broke out between police personnel and party’ s supporters. See full list on indiatoday.in Searches were conducted leading to recovery of Rs 63 Lakh (approximately), huge quantity jewellery, gold biscuits & cash found. See full list on indiatoday.in India News Today : Get latest India news and breaking news from India on Times of India . TOI brings the top news headlines from India on Politics, Elections, Current Affairs and more Read full articles, watch videos, browse thousands of titles and more on the ' India ' topic with Google News. 3 days ago · Reuters.com is your online source for the latest India news stories and current events, ensuring our readers up to date with any breaking news developments Stay Up-to-date with Top news in India , current headlines, photos & videos online, live coverage on entertainment, business, politics, sports, technology and more at indianexpress.com. India News : Read Latest India News Today India Top Headlines along with Latest Breaking India News and Real Time announcements from India . Stay connected for timely reports and... India News Today : Get latest India news and breaking news from India on Times of India . TOI brings the top news headlines from India on Politics, Elections, Current Affairs and more Read full articles, watch videos, browse thousands of titles and more on the ' India ' topic with Google News.\n"
     ]
    }
   ],
   "source": [
    "search_tool = DuckDuckGoSearchRun()\n",
    "result = search_tool.invoke(\"What is todays news about india?\")\n",
    "print(result)"
   ]
  },
  {
   "cell_type": "markdown",
   "id": "5e6e6822",
   "metadata": {},
   "source": [
    "# Built-in Tool - Shell Tool"
   ]
  },
  {
   "cell_type": "code",
   "execution_count": 4,
   "id": "ba3400fc",
   "metadata": {},
   "outputs": [],
   "source": [
    "from langchain_community.tools import ShellTool"
   ]
  },
  {
   "cell_type": "code",
   "execution_count": 9,
   "id": "ca27961b",
   "metadata": {},
   "outputs": [
    {
     "name": "stdout",
     "output_type": "stream",
     "text": [
      "Executing command:\n",
      " whoami\n"
     ]
    },
    {
     "name": "stderr",
     "output_type": "stream",
     "text": [
      "d:\\GRIND\\GEN_AI\\LangChain\\env\\Lib\\site-packages\\langchain_community\\tools\\shell\\tool.py:33: UserWarning: The shell tool has no safeguards by default. Use at your own risk.\n",
      "  warnings.warn(\n"
     ]
    },
    {
     "data": {
      "text/plain": [
       "'asus\\\\imake\\r\\n'"
      ]
     },
     "execution_count": 9,
     "metadata": {},
     "output_type": "execute_result"
    }
   ],
   "source": [
    "shell_tool = ShellTool()\n",
    "result = shell_tool.invoke(\"whoami\")\n",
    "result"
   ]
  },
  {
   "cell_type": "code",
   "execution_count": null,
   "id": "72e6cf0e",
   "metadata": {},
   "outputs": [],
   "source": []
  }
 ],
 "metadata": {
  "kernelspec": {
   "display_name": "env",
   "language": "python",
   "name": "python3"
  },
  "language_info": {
   "codemirror_mode": {
    "name": "ipython",
    "version": 3
   },
   "file_extension": ".py",
   "mimetype": "text/x-python",
   "name": "python",
   "nbconvert_exporter": "python",
   "pygments_lexer": "ipython3",
   "version": "3.13.0"
  }
 },
 "nbformat": 4,
 "nbformat_minor": 5
}
